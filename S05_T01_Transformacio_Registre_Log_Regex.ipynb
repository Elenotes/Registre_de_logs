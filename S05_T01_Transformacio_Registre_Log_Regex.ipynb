{
 "cells": [
  {
   "cell_type": "markdown",
   "id": "af361ab8",
   "metadata": {},
   "source": [
    "# S05 T01: Transformació Registre Log amb Regular expressions"
   ]
  },
  {
   "cell_type": "markdown",
   "id": "49934598",
   "metadata": {},
   "source": [
    "<span style=color:darkred>**References:**</span>\n",
    "+ [PY4E: Regular Expressions](https://www.py4e.com/lessons/regex#)\n",
    "+ [Python Regex for Data Scientists](https://www.dataquest.io/blog/regular-expressions-data-scientists/)\n",
    "+ [RegexOne](https://regexone.com/)\n",
    "+ [Pandas DataFrame Apply](https://pandas.pydata.org/pandas-docs/stable/reference/api/pandas.DataFrame.apply.html)\n",
    "+ [Pandas Series Apply](https://pandas.pydata.org/docs/reference/api/pandas.Series.apply.html)\n",
    "\n",
    "\n"
   ]
  },
  {
   "cell_type": "markdown",
   "id": "7494b7c3",
   "metadata": {},
   "source": [
    "### Descripció\n",
    "\n",
    "L'anàlisi de registres és una funció important per al control i l'alerta, el compliment de les polítiques de seguretat, l'auditoria i el compliment normatiu, la resposta a incidents de seguretat i fins i tot les investigacions forenses. En analitzar les dades de registre, les empreses poden identificar més fàcilment les possibles amenaces i altres problemes, trobar la causa arrel i iniciar una resposta ràpida per mitigar els riscos. "
   ]
  },
  {
   "cell_type": "markdown",
   "id": "cca4867d",
   "metadata": {},
   "source": [
    "## NIVELL 1 - EXERCICI 1\n",
    "\n",
    "L'analista ha d'assegurar-se que els registres consisteixen en una gamma completa de missatges i s'interpreten segons el context. Els elements de registre han d'estandaritzar-se, utilitzant els mateixos termes o terminologia, per evitar confusions i proporcionar cohesió.\n",
    "\n",
    "Com Científic de Dades se t'ha proporcionat accés als registres-Logs on queda registrada l'activitat de totes les visites a realitzades a la pàgina web de l'agència de viatges \"akumenius.com\".\n",
    "\n",
    "### Exercici\n",
    "\n",
    "Estandaritza, identifica i enumera cada un dels atributs / variables de l'estructura de l'arxiu [Web_access_log-akumenius.com](https://github.com/IT-Academy-BCN/Data-Science/blob/main/Data-sources/Web_access_log-akumenius.com.txt.7z) que trobaràs al repositori de GitHub [\"Data-sources\".](https://github.com/IT-Academy-BCN/Data-Science/tree/main/Data-sources) "
   ]
  },
  {
   "cell_type": "code",
   "execution_count": 1,
   "id": "7c0f4021",
   "metadata": {},
   "outputs": [],
   "source": [
    "#import libraries\n",
    "import numpy as np\n",
    "import pandas as pd\n",
    "import re\n",
    "#import json\n"
   ]
  },
  {
   "cell_type": "code",
   "execution_count": 2,
   "id": "cfff1547",
   "metadata": {
    "scrolled": true
   },
   "outputs": [
    {
     "data": {
      "text/plain": [
       "['localhost 127.0.0.1 - - [23/Feb/2014:03:10:31 +0100] \"OPTIONS * HTTP/1.0\" 200 - \"-\" \"Apache (internal dummy connection)\" VLOG=-\\n',\n",
       " 'localhost 127.0.0.1 - - [23/Feb/2014:03:10:31 +0100] \"OPTIONS * HTTP/1.0\" 200 - \"-\" \"Apache (internal dummy connection)\" VLOG=-\\n',\n",
       " 'localhost 127.0.0.1 - - [23/Feb/2014:03:10:31 +0100] \"OPTIONS * HTTP/1.0\" 200 - \"-\" \"Apache (internal dummy connection)\" VLOG=-\\n',\n",
       " 'localhost 127.0.0.1 - - [23/Feb/2014:03:10:31 +0100] \"OPTIONS * HTTP/1.0\" 200 - \"-\" \"Apache (internal dummy connection)\" VLOG=-\\n',\n",
       " 'localhost 127.0.0.1 - - [23/Feb/2014:03:10:31 +0100] \"OPTIONS * HTTP/1.0\" 200 - \"-\" \"Apache (internal dummy connection)\" VLOG=-\\n']"
      ]
     },
     "execution_count": 2,
     "metadata": {},
     "output_type": "execute_result"
    }
   ],
   "source": [
    "#let's take a look to the file\n",
    "#the readlines() return a list of lines\n",
    "with open('Web_access_log.txt', 'r') as file:\n",
    "    log = file.readlines()  \n",
    "log[:5]"
   ]
  },
  {
   "cell_type": "code",
   "execution_count": 3,
   "id": "dbd3d8b1",
   "metadata": {},
   "outputs": [
    {
     "name": "stdout",
     "output_type": "stream",
     "text": [
      "<class 'list'>\n"
     ]
    }
   ],
   "source": [
    "print(type(log))"
   ]
  },
  {
   "cell_type": "code",
   "execution_count": 4,
   "id": "f20708ee",
   "metadata": {},
   "outputs": [
    {
     "name": "stdout",
     "output_type": "stream",
     "text": [
      "[['localhost', '127.0.0.1', '-', '-', '[23/Feb/2014:03:10:31', '+0100]', '\"OPTIONS', '*', 'HTTP/1.0\"', '200', '-', '\"-\"', '\"Apache', '(internal', 'dummy', 'connection)\"', 'VLOG=-\\n'], ['localhost', '127.0.0.1', '-', '-', '[23/Feb/2014:03:10:31', '+0100]', '\"OPTIONS', '*', 'HTTP/1.0\"', '200', '-', '\"-\"', '\"Apache', '(internal', 'dummy', 'connection)\"', 'VLOG=-\\n'], ['localhost', '127.0.0.1', '-', '-', '[23/Feb/2014:03:10:31', '+0100]', '\"OPTIONS', '*', 'HTTP/1.0\"', '200', '-', '\"-\"', '\"Apache', '(internal', 'dummy', 'connection)\"', 'VLOG=-\\n'], ['localhost', '127.0.0.1', '-', '-', '[23/Feb/2014:03:10:31', '+0100]', '\"OPTIONS', '*', 'HTTP/1.0\"', '200', '-', '\"-\"', '\"Apache', '(internal', 'dummy', 'connection)\"', 'VLOG=-\\n'], ['localhost', '127.0.0.1', '-', '-', '[23/Feb/2014:03:10:31', '+0100]', '\"OPTIONS', '*', 'HTTP/1.0\"', '200', '-', '\"-\"', '\"Apache', '(internal', 'dummy', 'connection)\"', 'VLOG=-\\n']]\n"
     ]
    }
   ],
   "source": [
    "#break each list in a list of elements splitting by empty space\n",
    "#we get a list of lists\n",
    "lst = []\n",
    "for line in log:\n",
    "    element = line.split(' ')\n",
    "    lst.append(element)\n",
    "print(lst[:5])"
   ]
  },
  {
   "cell_type": "code",
   "execution_count": 5,
   "id": "067c7366",
   "metadata": {},
   "outputs": [
    {
     "data": {
      "text/html": [
       "<div>\n",
       "<style scoped>\n",
       "    .dataframe tbody tr th:only-of-type {\n",
       "        vertical-align: middle;\n",
       "    }\n",
       "\n",
       "    .dataframe tbody tr th {\n",
       "        vertical-align: top;\n",
       "    }\n",
       "\n",
       "    .dataframe thead th {\n",
       "        text-align: right;\n",
       "    }\n",
       "</style>\n",
       "<table border=\"1\" class=\"dataframe\">\n",
       "  <thead>\n",
       "    <tr style=\"text-align: right;\">\n",
       "      <th></th>\n",
       "      <th>0</th>\n",
       "      <th>1</th>\n",
       "      <th>2</th>\n",
       "      <th>3</th>\n",
       "      <th>4</th>\n",
       "      <th>5</th>\n",
       "      <th>6</th>\n",
       "      <th>7</th>\n",
       "      <th>8</th>\n",
       "      <th>9</th>\n",
       "      <th>...</th>\n",
       "      <th>40</th>\n",
       "      <th>41</th>\n",
       "      <th>42</th>\n",
       "      <th>43</th>\n",
       "      <th>44</th>\n",
       "      <th>45</th>\n",
       "      <th>46</th>\n",
       "      <th>47</th>\n",
       "      <th>48</th>\n",
       "      <th>49</th>\n",
       "    </tr>\n",
       "  </thead>\n",
       "  <tbody>\n",
       "    <tr>\n",
       "      <th>100000</th>\n",
       "      <td>www.akumenius.com</td>\n",
       "      <td>88.14.201.73</td>\n",
       "      <td>-</td>\n",
       "      <td>-</td>\n",
       "      <td>[25/Feb/2014:11:14:09</td>\n",
       "      <td>+0100]</td>\n",
       "      <td>\"POST</td>\n",
       "      <td>/raton-search</td>\n",
       "      <td>HTTP/1.1\"</td>\n",
       "      <td>200</td>\n",
       "      <td>...</td>\n",
       "      <td>None</td>\n",
       "      <td>None</td>\n",
       "      <td>None</td>\n",
       "      <td>None</td>\n",
       "      <td>None</td>\n",
       "      <td>None</td>\n",
       "      <td>None</td>\n",
       "      <td>None</td>\n",
       "      <td>None</td>\n",
       "      <td>None</td>\n",
       "    </tr>\n",
       "    <tr>\n",
       "      <th>100001</th>\n",
       "      <td>www.akumenius.com</td>\n",
       "      <td>88.14.201.73</td>\n",
       "      <td>-</td>\n",
       "      <td>-</td>\n",
       "      <td>[25/Feb/2014:11:14:10</td>\n",
       "      <td>+0100]</td>\n",
       "      <td>\"GET</td>\n",
       "      <td>/hotel-list</td>\n",
       "      <td>HTTP/1.1\"</td>\n",
       "      <td>200</td>\n",
       "      <td>...</td>\n",
       "      <td>None</td>\n",
       "      <td>None</td>\n",
       "      <td>None</td>\n",
       "      <td>None</td>\n",
       "      <td>None</td>\n",
       "      <td>None</td>\n",
       "      <td>None</td>\n",
       "      <td>None</td>\n",
       "      <td>None</td>\n",
       "      <td>None</td>\n",
       "    </tr>\n",
       "    <tr>\n",
       "      <th>100002</th>\n",
       "      <td>localhost</td>\n",
       "      <td>127.0.0.1</td>\n",
       "      <td>-</td>\n",
       "      <td>-</td>\n",
       "      <td>[25/Feb/2014:11:14:10</td>\n",
       "      <td>+0100]</td>\n",
       "      <td>\"OPTIONS</td>\n",
       "      <td>*</td>\n",
       "      <td>HTTP/1.0\"</td>\n",
       "      <td>200</td>\n",
       "      <td>...</td>\n",
       "      <td>None</td>\n",
       "      <td>None</td>\n",
       "      <td>None</td>\n",
       "      <td>None</td>\n",
       "      <td>None</td>\n",
       "      <td>None</td>\n",
       "      <td>None</td>\n",
       "      <td>None</td>\n",
       "      <td>None</td>\n",
       "      <td>None</td>\n",
       "    </tr>\n",
       "    <tr>\n",
       "      <th>100003</th>\n",
       "      <td>www.akumenius.com</td>\n",
       "      <td>88.14.201.73</td>\n",
       "      <td>-</td>\n",
       "      <td>-</td>\n",
       "      <td>[25/Feb/2014:11:14:11</td>\n",
       "      <td>+0100]</td>\n",
       "      <td>\"GET</td>\n",
       "      <td>//modules/raton/views/themes/bcoos/images/ajax...</td>\n",
       "      <td>HTTP/1.1\"</td>\n",
       "      <td>200</td>\n",
       "      <td>...</td>\n",
       "      <td>None</td>\n",
       "      <td>None</td>\n",
       "      <td>None</td>\n",
       "      <td>None</td>\n",
       "      <td>None</td>\n",
       "      <td>None</td>\n",
       "      <td>None</td>\n",
       "      <td>None</td>\n",
       "      <td>None</td>\n",
       "      <td>None</td>\n",
       "    </tr>\n",
       "    <tr>\n",
       "      <th>100004</th>\n",
       "      <td>www.akumenius.com</td>\n",
       "      <td>88.14.201.73</td>\n",
       "      <td>-</td>\n",
       "      <td>-</td>\n",
       "      <td>[25/Feb/2014:11:14:11</td>\n",
       "      <td>+0100]</td>\n",
       "      <td>\"GET</td>\n",
       "      <td>/modules/raton/views/themes/bcoos/images/logo_...</td>\n",
       "      <td>HTTP/1.1\"</td>\n",
       "      <td>200</td>\n",
       "      <td>...</td>\n",
       "      <td>None</td>\n",
       "      <td>None</td>\n",
       "      <td>None</td>\n",
       "      <td>None</td>\n",
       "      <td>None</td>\n",
       "      <td>None</td>\n",
       "      <td>None</td>\n",
       "      <td>None</td>\n",
       "      <td>None</td>\n",
       "      <td>None</td>\n",
       "    </tr>\n",
       "    <tr>\n",
       "      <th>100005</th>\n",
       "      <td>www.akumenius.com</td>\n",
       "      <td>66.249.76.216</td>\n",
       "      <td>-</td>\n",
       "      <td>-</td>\n",
       "      <td>[25/Feb/2014:11:14:12</td>\n",
       "      <td>+0100]</td>\n",
       "      <td>\"GET</td>\n",
       "      <td>/destinos-caracteristicas/hoteles-baratos-en-P...</td>\n",
       "      <td>HTTP/1.1\"</td>\n",
       "      <td>200</td>\n",
       "      <td>...</td>\n",
       "      <td>None</td>\n",
       "      <td>None</td>\n",
       "      <td>None</td>\n",
       "      <td>None</td>\n",
       "      <td>None</td>\n",
       "      <td>None</td>\n",
       "      <td>None</td>\n",
       "      <td>None</td>\n",
       "      <td>None</td>\n",
       "      <td>None</td>\n",
       "    </tr>\n",
       "    <tr>\n",
       "      <th>100006</th>\n",
       "      <td>localhost</td>\n",
       "      <td>127.0.0.1</td>\n",
       "      <td>-</td>\n",
       "      <td>-</td>\n",
       "      <td>[25/Feb/2014:11:14:18</td>\n",
       "      <td>+0100]</td>\n",
       "      <td>\"OPTIONS</td>\n",
       "      <td>*</td>\n",
       "      <td>HTTP/1.0\"</td>\n",
       "      <td>200</td>\n",
       "      <td>...</td>\n",
       "      <td>None</td>\n",
       "      <td>None</td>\n",
       "      <td>None</td>\n",
       "      <td>None</td>\n",
       "      <td>None</td>\n",
       "      <td>None</td>\n",
       "      <td>None</td>\n",
       "      <td>None</td>\n",
       "      <td>None</td>\n",
       "      <td>None</td>\n",
       "    </tr>\n",
       "    <tr>\n",
       "      <th>100007</th>\n",
       "      <td>www.akumenius.com</td>\n",
       "      <td>88.14.201.73</td>\n",
       "      <td>-</td>\n",
       "      <td>-</td>\n",
       "      <td>[25/Feb/2014:11:14:11</td>\n",
       "      <td>+0100]</td>\n",
       "      <td>\"POST</td>\n",
       "      <td>/hotel-list-data/</td>\n",
       "      <td>HTTP/1.1\"</td>\n",
       "      <td>200</td>\n",
       "      <td>...</td>\n",
       "      <td>None</td>\n",
       "      <td>None</td>\n",
       "      <td>None</td>\n",
       "      <td>None</td>\n",
       "      <td>None</td>\n",
       "      <td>None</td>\n",
       "      <td>None</td>\n",
       "      <td>None</td>\n",
       "      <td>None</td>\n",
       "      <td>None</td>\n",
       "    </tr>\n",
       "    <tr>\n",
       "      <th>100008</th>\n",
       "      <td>www.akumenius.com</td>\n",
       "      <td>88.14.201.73</td>\n",
       "      <td>-</td>\n",
       "      <td>-</td>\n",
       "      <td>[25/Feb/2014:11:14:31</td>\n",
       "      <td>+0100]</td>\n",
       "      <td>\"GET</td>\n",
       "      <td>/modules/raton/views/themes/bcoos/images/star.png</td>\n",
       "      <td>HTTP/1.1\"</td>\n",
       "      <td>200</td>\n",
       "      <td>...</td>\n",
       "      <td>None</td>\n",
       "      <td>None</td>\n",
       "      <td>None</td>\n",
       "      <td>None</td>\n",
       "      <td>None</td>\n",
       "      <td>None</td>\n",
       "      <td>None</td>\n",
       "      <td>None</td>\n",
       "      <td>None</td>\n",
       "      <td>None</td>\n",
       "    </tr>\n",
       "    <tr>\n",
       "      <th>100009</th>\n",
       "      <td>www.akumenius.com</td>\n",
       "      <td>88.14.201.73</td>\n",
       "      <td>-</td>\n",
       "      <td>-</td>\n",
       "      <td>[25/Feb/2014:11:14:32</td>\n",
       "      <td>+0100]</td>\n",
       "      <td>\"GET</td>\n",
       "      <td>/modules/raton/views/themes/bcoos/images/ficha...</td>\n",
       "      <td>HTTP/1.1\"</td>\n",
       "      <td>200</td>\n",
       "      <td>...</td>\n",
       "      <td>None</td>\n",
       "      <td>None</td>\n",
       "      <td>None</td>\n",
       "      <td>None</td>\n",
       "      <td>None</td>\n",
       "      <td>None</td>\n",
       "      <td>None</td>\n",
       "      <td>None</td>\n",
       "      <td>None</td>\n",
       "      <td>None</td>\n",
       "    </tr>\n",
       "  </tbody>\n",
       "</table>\n",
       "<p>10 rows × 50 columns</p>\n",
       "</div>"
      ],
      "text/plain": [
       "                       0              1  2  3                      4       5   \\\n",
       "100000  www.akumenius.com   88.14.201.73  -  -  [25/Feb/2014:11:14:09  +0100]   \n",
       "100001  www.akumenius.com   88.14.201.73  -  -  [25/Feb/2014:11:14:10  +0100]   \n",
       "100002          localhost      127.0.0.1  -  -  [25/Feb/2014:11:14:10  +0100]   \n",
       "100003  www.akumenius.com   88.14.201.73  -  -  [25/Feb/2014:11:14:11  +0100]   \n",
       "100004  www.akumenius.com   88.14.201.73  -  -  [25/Feb/2014:11:14:11  +0100]   \n",
       "100005  www.akumenius.com  66.249.76.216  -  -  [25/Feb/2014:11:14:12  +0100]   \n",
       "100006          localhost      127.0.0.1  -  -  [25/Feb/2014:11:14:18  +0100]   \n",
       "100007  www.akumenius.com   88.14.201.73  -  -  [25/Feb/2014:11:14:11  +0100]   \n",
       "100008  www.akumenius.com   88.14.201.73  -  -  [25/Feb/2014:11:14:31  +0100]   \n",
       "100009  www.akumenius.com   88.14.201.73  -  -  [25/Feb/2014:11:14:32  +0100]   \n",
       "\n",
       "              6                                                  7   \\\n",
       "100000     \"POST                                      /raton-search   \n",
       "100001      \"GET                                        /hotel-list   \n",
       "100002  \"OPTIONS                                                  *   \n",
       "100003      \"GET  //modules/raton/views/themes/bcoos/images/ajax...   \n",
       "100004      \"GET  /modules/raton/views/themes/bcoos/images/logo_...   \n",
       "100005      \"GET  /destinos-caracteristicas/hoteles-baratos-en-P...   \n",
       "100006  \"OPTIONS                                                  *   \n",
       "100007     \"POST                                  /hotel-list-data/   \n",
       "100008      \"GET  /modules/raton/views/themes/bcoos/images/star.png   \n",
       "100009      \"GET  /modules/raton/views/themes/bcoos/images/ficha...   \n",
       "\n",
       "               8    9   ...    40    41    42    43    44    45    46    47  \\\n",
       "100000  HTTP/1.1\"  200  ...  None  None  None  None  None  None  None  None   \n",
       "100001  HTTP/1.1\"  200  ...  None  None  None  None  None  None  None  None   \n",
       "100002  HTTP/1.0\"  200  ...  None  None  None  None  None  None  None  None   \n",
       "100003  HTTP/1.1\"  200  ...  None  None  None  None  None  None  None  None   \n",
       "100004  HTTP/1.1\"  200  ...  None  None  None  None  None  None  None  None   \n",
       "100005  HTTP/1.1\"  200  ...  None  None  None  None  None  None  None  None   \n",
       "100006  HTTP/1.0\"  200  ...  None  None  None  None  None  None  None  None   \n",
       "100007  HTTP/1.1\"  200  ...  None  None  None  None  None  None  None  None   \n",
       "100008  HTTP/1.1\"  200  ...  None  None  None  None  None  None  None  None   \n",
       "100009  HTTP/1.1\"  200  ...  None  None  None  None  None  None  None  None   \n",
       "\n",
       "          48    49  \n",
       "100000  None  None  \n",
       "100001  None  None  \n",
       "100002  None  None  \n",
       "100003  None  None  \n",
       "100004  None  None  \n",
       "100005  None  None  \n",
       "100006  None  None  \n",
       "100007  None  None  \n",
       "100008  None  None  \n",
       "100009  None  None  \n",
       "\n",
       "[10 rows x 50 columns]"
      ]
     },
     "execution_count": 5,
     "metadata": {},
     "output_type": "execute_result"
    }
   ],
   "source": [
    "#convert the list of lists as a Dataframe\n",
    "df = pd.DataFrame(lst)\n",
    "df[100000:100010]"
   ]
  },
  {
   "cell_type": "code",
   "execution_count": 6,
   "id": "e13d311c",
   "metadata": {},
   "outputs": [
    {
     "data": {
      "text/plain": [
       "0          0\n",
       "1          0\n",
       "2          0\n",
       "3          0\n",
       "4          0\n",
       "5          0\n",
       "6          0\n",
       "7          0\n",
       "8          0\n",
       "9          0\n",
       "10         0\n",
       "11         0\n",
       "12        42\n",
       "13        42\n",
       "14       677\n",
       "15      5765\n",
       "16      7897\n",
       "17     94000\n",
       "18     97266\n",
       "19     97345\n",
       "20    108417\n",
       "21    126118\n",
       "22    136252\n",
       "23    172945\n",
       "24    192300\n",
       "25    193671\n",
       "26    203914\n",
       "27    209551\n",
       "28    221546\n",
       "29    234742\n",
       "30    245308\n",
       "31    248594\n",
       "32    249779\n",
       "33    252314\n",
       "34    253623\n",
       "35    255492\n",
       "36    256251\n",
       "37    257006\n",
       "38    257984\n",
       "39    258750\n",
       "40    259996\n",
       "41    260138\n",
       "42    260169\n",
       "43    260768\n",
       "44    260768\n",
       "45    260808\n",
       "46    260963\n",
       "47    260963\n",
       "48    260963\n",
       "49    260963\n",
       "dtype: int64"
      ]
     },
     "execution_count": 6,
     "metadata": {},
     "output_type": "execute_result"
    }
   ],
   "source": [
    "#from the 12th to the last column, there are nulls\n",
    "df.isnull().sum()"
   ]
  },
  {
   "cell_type": "code",
   "execution_count": 7,
   "id": "fb71eed4",
   "metadata": {},
   "outputs": [],
   "source": [
    "#so, it means that the splitted lists have more empty spaces in some cases that break the lines in many attributes\n",
    "#we are going to combine the columns from the 12 to the 49, in order to have just 12 columns\n",
    "cols = np.arange(12,50)\n",
    "df['resta_linia'] = df[cols].apply(lambda row: ' '.join(row.values.astype(str)), axis=1)"
   ]
  },
  {
   "cell_type": "code",
   "execution_count": 8,
   "id": "a680bc66",
   "metadata": {},
   "outputs": [],
   "source": [
    "#delete the individual rows we just concat\n",
    "for n in cols:\n",
    "    del df[n]"
   ]
  },
  {
   "cell_type": "code",
   "execution_count": 9,
   "id": "ff195be9",
   "metadata": {},
   "outputs": [
    {
     "data": {
      "text/html": [
       "<div>\n",
       "<style scoped>\n",
       "    .dataframe tbody tr th:only-of-type {\n",
       "        vertical-align: middle;\n",
       "    }\n",
       "\n",
       "    .dataframe tbody tr th {\n",
       "        vertical-align: top;\n",
       "    }\n",
       "\n",
       "    .dataframe thead th {\n",
       "        text-align: right;\n",
       "    }\n",
       "</style>\n",
       "<table border=\"1\" class=\"dataframe\">\n",
       "  <thead>\n",
       "    <tr style=\"text-align: right;\">\n",
       "      <th></th>\n",
       "      <th>0</th>\n",
       "      <th>1</th>\n",
       "      <th>2</th>\n",
       "      <th>3</th>\n",
       "      <th>4</th>\n",
       "      <th>5</th>\n",
       "      <th>6</th>\n",
       "      <th>7</th>\n",
       "      <th>8</th>\n",
       "      <th>9</th>\n",
       "      <th>10</th>\n",
       "      <th>11</th>\n",
       "      <th>resta_linia</th>\n",
       "    </tr>\n",
       "  </thead>\n",
       "  <tbody>\n",
       "    <tr>\n",
       "      <th>0</th>\n",
       "      <td>localhost</td>\n",
       "      <td>127.0.0.1</td>\n",
       "      <td>-</td>\n",
       "      <td>-</td>\n",
       "      <td>[23/Feb/2014:03:10:31</td>\n",
       "      <td>+0100]</td>\n",
       "      <td>\"OPTIONS</td>\n",
       "      <td>*</td>\n",
       "      <td>HTTP/1.0\"</td>\n",
       "      <td>200</td>\n",
       "      <td>-</td>\n",
       "      <td>\"-\"</td>\n",
       "      <td>\"Apache (internal dummy connection)\" VLOG=-\\n ...</td>\n",
       "    </tr>\n",
       "    <tr>\n",
       "      <th>1</th>\n",
       "      <td>localhost</td>\n",
       "      <td>127.0.0.1</td>\n",
       "      <td>-</td>\n",
       "      <td>-</td>\n",
       "      <td>[23/Feb/2014:03:10:31</td>\n",
       "      <td>+0100]</td>\n",
       "      <td>\"OPTIONS</td>\n",
       "      <td>*</td>\n",
       "      <td>HTTP/1.0\"</td>\n",
       "      <td>200</td>\n",
       "      <td>-</td>\n",
       "      <td>\"-\"</td>\n",
       "      <td>\"Apache (internal dummy connection)\" VLOG=-\\n ...</td>\n",
       "    </tr>\n",
       "    <tr>\n",
       "      <th>2</th>\n",
       "      <td>localhost</td>\n",
       "      <td>127.0.0.1</td>\n",
       "      <td>-</td>\n",
       "      <td>-</td>\n",
       "      <td>[23/Feb/2014:03:10:31</td>\n",
       "      <td>+0100]</td>\n",
       "      <td>\"OPTIONS</td>\n",
       "      <td>*</td>\n",
       "      <td>HTTP/1.0\"</td>\n",
       "      <td>200</td>\n",
       "      <td>-</td>\n",
       "      <td>\"-\"</td>\n",
       "      <td>\"Apache (internal dummy connection)\" VLOG=-\\n ...</td>\n",
       "    </tr>\n",
       "    <tr>\n",
       "      <th>3</th>\n",
       "      <td>localhost</td>\n",
       "      <td>127.0.0.1</td>\n",
       "      <td>-</td>\n",
       "      <td>-</td>\n",
       "      <td>[23/Feb/2014:03:10:31</td>\n",
       "      <td>+0100]</td>\n",
       "      <td>\"OPTIONS</td>\n",
       "      <td>*</td>\n",
       "      <td>HTTP/1.0\"</td>\n",
       "      <td>200</td>\n",
       "      <td>-</td>\n",
       "      <td>\"-\"</td>\n",
       "      <td>\"Apache (internal dummy connection)\" VLOG=-\\n ...</td>\n",
       "    </tr>\n",
       "    <tr>\n",
       "      <th>4</th>\n",
       "      <td>localhost</td>\n",
       "      <td>127.0.0.1</td>\n",
       "      <td>-</td>\n",
       "      <td>-</td>\n",
       "      <td>[23/Feb/2014:03:10:31</td>\n",
       "      <td>+0100]</td>\n",
       "      <td>\"OPTIONS</td>\n",
       "      <td>*</td>\n",
       "      <td>HTTP/1.0\"</td>\n",
       "      <td>200</td>\n",
       "      <td>-</td>\n",
       "      <td>\"-\"</td>\n",
       "      <td>\"Apache (internal dummy connection)\" VLOG=-\\n ...</td>\n",
       "    </tr>\n",
       "  </tbody>\n",
       "</table>\n",
       "</div>"
      ],
      "text/plain": [
       "           0          1  2  3                      4       5         6  7  \\\n",
       "0  localhost  127.0.0.1  -  -  [23/Feb/2014:03:10:31  +0100]  \"OPTIONS  *   \n",
       "1  localhost  127.0.0.1  -  -  [23/Feb/2014:03:10:31  +0100]  \"OPTIONS  *   \n",
       "2  localhost  127.0.0.1  -  -  [23/Feb/2014:03:10:31  +0100]  \"OPTIONS  *   \n",
       "3  localhost  127.0.0.1  -  -  [23/Feb/2014:03:10:31  +0100]  \"OPTIONS  *   \n",
       "4  localhost  127.0.0.1  -  -  [23/Feb/2014:03:10:31  +0100]  \"OPTIONS  *   \n",
       "\n",
       "           8    9 10   11                                        resta_linia  \n",
       "0  HTTP/1.0\"  200  -  \"-\"  \"Apache (internal dummy connection)\" VLOG=-\\n ...  \n",
       "1  HTTP/1.0\"  200  -  \"-\"  \"Apache (internal dummy connection)\" VLOG=-\\n ...  \n",
       "2  HTTP/1.0\"  200  -  \"-\"  \"Apache (internal dummy connection)\" VLOG=-\\n ...  \n",
       "3  HTTP/1.0\"  200  -  \"-\"  \"Apache (internal dummy connection)\" VLOG=-\\n ...  \n",
       "4  HTTP/1.0\"  200  -  \"-\"  \"Apache (internal dummy connection)\" VLOG=-\\n ...  "
      ]
     },
     "execution_count": 9,
     "metadata": {},
     "output_type": "execute_result"
    }
   ],
   "source": [
    "df.head()"
   ]
  },
  {
   "cell_type": "code",
   "execution_count": 10,
   "id": "75e9e9fa",
   "metadata": {},
   "outputs": [
    {
     "data": {
      "text/plain": [
       "array(['localhost', 'www.akumenius.com', 'akumenius.com', 'akumenius.es',\n",
       "       'test.akumenius.com'], dtype=object)"
      ]
     },
     "execution_count": 10,
     "metadata": {},
     "output_type": "execute_result"
    }
   ],
   "source": [
    "#verify if the columns have the correct information\n",
    "df[0].unique()"
   ]
  },
  {
   "cell_type": "code",
   "execution_count": 11,
   "id": "67af96d9",
   "metadata": {},
   "outputs": [
    {
     "data": {
      "text/plain": [
       "66.249.76.216     46382\n",
       "80.28.221.123     14725\n",
       "127.0.0.1         13891\n",
       "217.125.71.222     5201\n",
       "66.249.75.148      3558\n",
       "                  ...  \n",
       "66.249.88.28          1\n",
       "199.80.54.22          1\n",
       "66.249.76.226         1\n",
       "66.249.75.178         1\n",
       "187.144.53.170        1\n",
       "Name: 1, Length: 2921, dtype: int64"
      ]
     },
     "execution_count": 11,
     "metadata": {},
     "output_type": "execute_result"
    }
   ],
   "source": [
    "df[1].value_counts()"
   ]
  },
  {
   "cell_type": "code",
   "execution_count": 12,
   "id": "44b101ab",
   "metadata": {},
   "outputs": [],
   "source": [
    "#because this row is just a '-', we can delete it\n",
    "df[2].unique()\n",
    "del df[2]"
   ]
  },
  {
   "cell_type": "code",
   "execution_count": 13,
   "id": "dba95cf1",
   "metadata": {},
   "outputs": [
    {
     "data": {
      "text/plain": [
       "-          261833\n",
       "clarcat        27\n",
       "Name: 3, dtype: int64"
      ]
     },
     "execution_count": 13,
     "metadata": {},
     "output_type": "execute_result"
    }
   ],
   "source": [
    "df[3].value_counts()"
   ]
  },
  {
   "cell_type": "code",
   "execution_count": 14,
   "id": "c57fb47f",
   "metadata": {},
   "outputs": [
    {
     "data": {
      "text/plain": [
       "0"
      ]
     },
     "execution_count": 14,
     "metadata": {},
     "output_type": "execute_result"
    }
   ],
   "source": [
    "df[4].isnull().sum()"
   ]
  },
  {
   "cell_type": "code",
   "execution_count": 15,
   "id": "22da5769",
   "metadata": {},
   "outputs": [],
   "source": [
    "#because this row is just a '+0100]', we can delete it\n",
    "df[5].unique()\n",
    "del df[5]"
   ]
  },
  {
   "cell_type": "code",
   "execution_count": 16,
   "id": "ea68d1c7",
   "metadata": {},
   "outputs": [
    {
     "data": {
      "text/plain": [
       "\"GET                   229472\n",
       "\"POST                   16668\n",
       "\"OPTIONS                13891\n",
       "\"HEAD                    1787\n",
       "\"-\"                        37\n",
       "\"\\x80w\\x01\\x03\\x01\"         5\n",
       "Name: 6, dtype: int64"
      ]
     },
     "execution_count": 16,
     "metadata": {},
     "output_type": "execute_result"
    }
   ],
   "source": [
    "df[6].value_counts()"
   ]
  },
  {
   "cell_type": "code",
   "execution_count": 17,
   "id": "448a5a5f",
   "metadata": {},
   "outputs": [
    {
     "data": {
      "text/plain": [
       "200    226369\n",
       "304     25269\n",
       "404      8630\n",
       "301       870\n",
       "206       304\n",
       "403       194\n",
       "302       109\n",
       "502        44\n",
       "\"-\"        42\n",
       "400        21\n",
       "401         5\n",
       "500         3\n",
       "Name: 9, dtype: int64"
      ]
     },
     "execution_count": 17,
     "metadata": {},
     "output_type": "execute_result"
    }
   ],
   "source": [
    "df[9].value_counts()"
   ]
  },
  {
   "cell_type": "code",
   "execution_count": 18,
   "id": "c8be3933",
   "metadata": {},
   "outputs": [
    {
     "data": {
      "text/plain": [
       "array(['\"-\"',\n",
       "       '\"http://www.akumenius.com/hoteles-baratos/ofertas-hotel-Playa-Blanca-All-Inclusive-en-Cayo%20Largo_CUBA-62359b.html\"',\n",
       "       '\"http://www.akumenius.com/\"', ...,\n",
       "       '\"http://www.akumenius.com/booking/152186/t/BARCELO%20DOMINICAN%20BEACH/4\"',\n",
       "       '\"http://www.akumenius.com/hotelDetailPopup/49612/b\"',\n",
       "       '\"http://www.akumenius.com/destinos-baratos/destinos-caracteristicas/hoteles-baratos-en-Phuket_TAILANDIA-con-Windsurf\"'],\n",
       "      dtype=object)"
      ]
     },
     "execution_count": 18,
     "metadata": {},
     "output_type": "execute_result"
    }
   ],
   "source": [
    "df[11].unique()"
   ]
  },
  {
   "cell_type": "code",
   "execution_count": 19,
   "id": "5d103e2f",
   "metadata": {},
   "outputs": [
    {
     "data": {
      "text/plain": [
       "24    \"Mozilla/5.0 (compatible; Googlebot/2.1; +http...\n",
       "25    \"Mozilla/5.0 (compatible; Googlebot/2.1; +http...\n",
       "26    \"Mozilla/5.0 (compatible; Googlebot/2.1; +http...\n",
       "27    \"Mozilla/5.0 (compatible; Googlebot/2.1; +http...\n",
       "28    \"Mozilla/5.0 (compatible; Googlebot/2.1; +http...\n",
       "29    \"Mozilla/5.0 (compatible; Googlebot/2.1; +http...\n",
       "Name: resta_linia, dtype: object"
      ]
     },
     "execution_count": 19,
     "metadata": {},
     "output_type": "execute_result"
    }
   ],
   "source": [
    "df['resta_linia'][24:30]"
   ]
  },
  {
   "cell_type": "code",
   "execution_count": 20,
   "id": "f547b907",
   "metadata": {},
   "outputs": [
    {
     "data": {
      "text/html": [
       "<div>\n",
       "<style scoped>\n",
       "    .dataframe tbody tr th:only-of-type {\n",
       "        vertical-align: middle;\n",
       "    }\n",
       "\n",
       "    .dataframe tbody tr th {\n",
       "        vertical-align: top;\n",
       "    }\n",
       "\n",
       "    .dataframe thead th {\n",
       "        text-align: right;\n",
       "    }\n",
       "</style>\n",
       "<table border=\"1\" class=\"dataframe\">\n",
       "  <thead>\n",
       "    <tr style=\"text-align: right;\">\n",
       "      <th></th>\n",
       "      <th>0</th>\n",
       "      <th>1</th>\n",
       "      <th>3</th>\n",
       "      <th>4</th>\n",
       "      <th>6</th>\n",
       "      <th>7</th>\n",
       "      <th>8</th>\n",
       "      <th>9</th>\n",
       "      <th>10</th>\n",
       "      <th>11</th>\n",
       "      <th>resta_linia</th>\n",
       "    </tr>\n",
       "  </thead>\n",
       "  <tbody>\n",
       "    <tr>\n",
       "      <th>261855</th>\n",
       "      <td>www.akumenius.com</td>\n",
       "      <td>5.255.253.53</td>\n",
       "      <td>-</td>\n",
       "      <td>[02/Mar/2014:03:05:39</td>\n",
       "      <td>\"GET</td>\n",
       "      <td>/</td>\n",
       "      <td>HTTP/1.1\"</td>\n",
       "      <td>200</td>\n",
       "      <td>7528</td>\n",
       "      <td>\"-\"</td>\n",
       "      <td>\"Mozilla/5.0 (compatible; YandexBot/3.0; +http...</td>\n",
       "    </tr>\n",
       "    <tr>\n",
       "      <th>261856</th>\n",
       "      <td>www.akumenius.com</td>\n",
       "      <td>74.86.158.107</td>\n",
       "      <td>-</td>\n",
       "      <td>[02/Mar/2014:03:09:52</td>\n",
       "      <td>\"HEAD</td>\n",
       "      <td>/</td>\n",
       "      <td>HTTP/1.1\"</td>\n",
       "      <td>200</td>\n",
       "      <td>-</td>\n",
       "      <td>\"-\"</td>\n",
       "      <td>\"Mozilla/5.0+(compatible; UptimeRobot/2.0; htt...</td>\n",
       "    </tr>\n",
       "    <tr>\n",
       "      <th>261857</th>\n",
       "      <td>localhost</td>\n",
       "      <td>127.0.0.1</td>\n",
       "      <td>-</td>\n",
       "      <td>[02/Mar/2014:03:10:18</td>\n",
       "      <td>\"OPTIONS</td>\n",
       "      <td>*</td>\n",
       "      <td>HTTP/1.0\"</td>\n",
       "      <td>200</td>\n",
       "      <td>-</td>\n",
       "      <td>\"-\"</td>\n",
       "      <td>\"Apache (internal dummy connection)\" VLOG=-\\n ...</td>\n",
       "    </tr>\n",
       "    <tr>\n",
       "      <th>261858</th>\n",
       "      <td>localhost</td>\n",
       "      <td>127.0.0.1</td>\n",
       "      <td>-</td>\n",
       "      <td>[02/Mar/2014:03:10:18</td>\n",
       "      <td>\"OPTIONS</td>\n",
       "      <td>*</td>\n",
       "      <td>HTTP/1.0\"</td>\n",
       "      <td>200</td>\n",
       "      <td>-</td>\n",
       "      <td>\"-\"</td>\n",
       "      <td>\"Apache (internal dummy connection)\" VLOG=-\\n ...</td>\n",
       "    </tr>\n",
       "    <tr>\n",
       "      <th>261859</th>\n",
       "      <td>localhost</td>\n",
       "      <td>127.0.0.1</td>\n",
       "      <td>-</td>\n",
       "      <td>[02/Mar/2014:03:10:18</td>\n",
       "      <td>\"OPTIONS</td>\n",
       "      <td>*</td>\n",
       "      <td>HTTP/1.0\"</td>\n",
       "      <td>200</td>\n",
       "      <td>-</td>\n",
       "      <td>\"-\"</td>\n",
       "      <td>\"Apache (internal dummy connection)\" VLOG=-\\n ...</td>\n",
       "    </tr>\n",
       "  </tbody>\n",
       "</table>\n",
       "</div>"
      ],
      "text/plain": [
       "                        0              1  3                      4         6  \\\n",
       "261855  www.akumenius.com   5.255.253.53  -  [02/Mar/2014:03:05:39      \"GET   \n",
       "261856  www.akumenius.com  74.86.158.107  -  [02/Mar/2014:03:09:52     \"HEAD   \n",
       "261857          localhost      127.0.0.1  -  [02/Mar/2014:03:10:18  \"OPTIONS   \n",
       "261858          localhost      127.0.0.1  -  [02/Mar/2014:03:10:18  \"OPTIONS   \n",
       "261859          localhost      127.0.0.1  -  [02/Mar/2014:03:10:18  \"OPTIONS   \n",
       "\n",
       "        7          8    9    10   11  \\\n",
       "261855  /  HTTP/1.1\"  200  7528  \"-\"   \n",
       "261856  /  HTTP/1.1\"  200     -  \"-\"   \n",
       "261857  *  HTTP/1.0\"  200     -  \"-\"   \n",
       "261858  *  HTTP/1.0\"  200     -  \"-\"   \n",
       "261859  *  HTTP/1.0\"  200     -  \"-\"   \n",
       "\n",
       "                                              resta_linia  \n",
       "261855  \"Mozilla/5.0 (compatible; YandexBot/3.0; +http...  \n",
       "261856  \"Mozilla/5.0+(compatible; UptimeRobot/2.0; htt...  \n",
       "261857  \"Apache (internal dummy connection)\" VLOG=-\\n ...  \n",
       "261858  \"Apache (internal dummy connection)\" VLOG=-\\n ...  \n",
       "261859  \"Apache (internal dummy connection)\" VLOG=-\\n ...  "
      ]
     },
     "execution_count": 20,
     "metadata": {},
     "output_type": "execute_result"
    }
   ],
   "source": [
    "df.tail()"
   ]
  },
  {
   "cell_type": "code",
   "execution_count": 21,
   "id": "c3c03e1e",
   "metadata": {},
   "outputs": [
    {
     "data": {
      "text/html": [
       "<div>\n",
       "<style scoped>\n",
       "    .dataframe tbody tr th:only-of-type {\n",
       "        vertical-align: middle;\n",
       "    }\n",
       "\n",
       "    .dataframe tbody tr th {\n",
       "        vertical-align: top;\n",
       "    }\n",
       "\n",
       "    .dataframe thead th {\n",
       "        text-align: right;\n",
       "    }\n",
       "</style>\n",
       "<table border=\"1\" class=\"dataframe\">\n",
       "  <thead>\n",
       "    <tr style=\"text-align: right;\">\n",
       "      <th></th>\n",
       "      <th>web</th>\n",
       "      <th>ip</th>\n",
       "      <th>3</th>\n",
       "      <th>datetime</th>\n",
       "      <th>options</th>\n",
       "      <th>url</th>\n",
       "      <th>protocol</th>\n",
       "      <th>9</th>\n",
       "      <th>10</th>\n",
       "      <th>11</th>\n",
       "      <th>resta_linia</th>\n",
       "    </tr>\n",
       "  </thead>\n",
       "  <tbody>\n",
       "    <tr>\n",
       "      <th>0</th>\n",
       "      <td>localhost</td>\n",
       "      <td>127.0.0.1</td>\n",
       "      <td>-</td>\n",
       "      <td>[23/Feb/2014:03:10:31</td>\n",
       "      <td>\"OPTIONS</td>\n",
       "      <td>*</td>\n",
       "      <td>HTTP/1.0\"</td>\n",
       "      <td>200</td>\n",
       "      <td>-</td>\n",
       "      <td>\"-\"</td>\n",
       "      <td>\"Apache (internal dummy connection)\" VLOG=-\\n ...</td>\n",
       "    </tr>\n",
       "    <tr>\n",
       "      <th>1</th>\n",
       "      <td>localhost</td>\n",
       "      <td>127.0.0.1</td>\n",
       "      <td>-</td>\n",
       "      <td>[23/Feb/2014:03:10:31</td>\n",
       "      <td>\"OPTIONS</td>\n",
       "      <td>*</td>\n",
       "      <td>HTTP/1.0\"</td>\n",
       "      <td>200</td>\n",
       "      <td>-</td>\n",
       "      <td>\"-\"</td>\n",
       "      <td>\"Apache (internal dummy connection)\" VLOG=-\\n ...</td>\n",
       "    </tr>\n",
       "    <tr>\n",
       "      <th>2</th>\n",
       "      <td>localhost</td>\n",
       "      <td>127.0.0.1</td>\n",
       "      <td>-</td>\n",
       "      <td>[23/Feb/2014:03:10:31</td>\n",
       "      <td>\"OPTIONS</td>\n",
       "      <td>*</td>\n",
       "      <td>HTTP/1.0\"</td>\n",
       "      <td>200</td>\n",
       "      <td>-</td>\n",
       "      <td>\"-\"</td>\n",
       "      <td>\"Apache (internal dummy connection)\" VLOG=-\\n ...</td>\n",
       "    </tr>\n",
       "    <tr>\n",
       "      <th>3</th>\n",
       "      <td>localhost</td>\n",
       "      <td>127.0.0.1</td>\n",
       "      <td>-</td>\n",
       "      <td>[23/Feb/2014:03:10:31</td>\n",
       "      <td>\"OPTIONS</td>\n",
       "      <td>*</td>\n",
       "      <td>HTTP/1.0\"</td>\n",
       "      <td>200</td>\n",
       "      <td>-</td>\n",
       "      <td>\"-\"</td>\n",
       "      <td>\"Apache (internal dummy connection)\" VLOG=-\\n ...</td>\n",
       "    </tr>\n",
       "    <tr>\n",
       "      <th>4</th>\n",
       "      <td>localhost</td>\n",
       "      <td>127.0.0.1</td>\n",
       "      <td>-</td>\n",
       "      <td>[23/Feb/2014:03:10:31</td>\n",
       "      <td>\"OPTIONS</td>\n",
       "      <td>*</td>\n",
       "      <td>HTTP/1.0\"</td>\n",
       "      <td>200</td>\n",
       "      <td>-</td>\n",
       "      <td>\"-\"</td>\n",
       "      <td>\"Apache (internal dummy connection)\" VLOG=-\\n ...</td>\n",
       "    </tr>\n",
       "  </tbody>\n",
       "</table>\n",
       "</div>"
      ],
      "text/plain": [
       "         web         ip  3               datetime   options url   protocol  \\\n",
       "0  localhost  127.0.0.1  -  [23/Feb/2014:03:10:31  \"OPTIONS   *  HTTP/1.0\"   \n",
       "1  localhost  127.0.0.1  -  [23/Feb/2014:03:10:31  \"OPTIONS   *  HTTP/1.0\"   \n",
       "2  localhost  127.0.0.1  -  [23/Feb/2014:03:10:31  \"OPTIONS   *  HTTP/1.0\"   \n",
       "3  localhost  127.0.0.1  -  [23/Feb/2014:03:10:31  \"OPTIONS   *  HTTP/1.0\"   \n",
       "4  localhost  127.0.0.1  -  [23/Feb/2014:03:10:31  \"OPTIONS   *  HTTP/1.0\"   \n",
       "\n",
       "     9 10   11                                        resta_linia  \n",
       "0  200  -  \"-\"  \"Apache (internal dummy connection)\" VLOG=-\\n ...  \n",
       "1  200  -  \"-\"  \"Apache (internal dummy connection)\" VLOG=-\\n ...  \n",
       "2  200  -  \"-\"  \"Apache (internal dummy connection)\" VLOG=-\\n ...  \n",
       "3  200  -  \"-\"  \"Apache (internal dummy connection)\" VLOG=-\\n ...  \n",
       "4  200  -  \"-\"  \"Apache (internal dummy connection)\" VLOG=-\\n ...  "
      ]
     },
     "execution_count": 21,
     "metadata": {},
     "output_type": "execute_result"
    }
   ],
   "source": [
    "#rename the good columns\n",
    "df.rename(columns={0: 'web', 1: 'ip', 4 : 'datetime', 6: 'options', 7:'url', 8:'protocol'}, inplace=True)\n",
    "df.head()"
   ]
  },
  {
   "cell_type": "code",
   "execution_count": 22,
   "id": "b8359331",
   "metadata": {},
   "outputs": [],
   "source": [
    "# re.finditer(\"([\\w+\\.*\\w+\\.*\\w+\\S]) ([\\d{1,3}.\\d{1,3}.\\d{1,3}.\\d{1,3}]) ([- \\w.+]) ([\\[.+\\]]) ([.+])\", log.linia[0]):\n",
    "#log['web'] = log['linia'].str.split(r'(\\w+\\.*\\w+\\.*\\w+\\S)', expand=True)\n",
    "#log['linia'].str.split(r'(\\w+\\.*\\w+\\.*\\w+\\S) (\\d{1,3}.\\d{1,3}.\\d{1,3}.\\d{1,3}) (- \\w.+) (\\[.+\\]) (.+)', expand=True)\n"
   ]
  },
  {
   "cell_type": "code",
   "execution_count": 23,
   "id": "dab28b6c",
   "metadata": {},
   "outputs": [
    {
     "data": {
      "text/plain": [
       "100000    \"Mozilla/5.0 (Linux; U; Android 2.3.7; es-es; SonyEricssonST25i Build/6.0.B.3.184) AppleWebKit/533.1 (KHTML, like Gecko) Version/4.0 Mobile Safari/533.1\" VLOG=-\\n None None None None None None Non...\n",
       "100001    \"Mozilla/5.0 (Linux; U; Android 2.3.7; es-es; SonyEricssonST25i Build/6.0.B.3.184) AppleWebKit/533.1 (KHTML, like Gecko) Version/4.0 Mobile Safari/533.1\" VLOG=-\\n None None None None None None Non...\n",
       "100002    \"Apache (internal dummy connection)\" VLOG=-\\n None None None None None None None None None None None None None None None None None None None None None None None None None None None None None None ...\n",
       "100003    \"Mozilla/5.0 (Linux; U; Android 2.3.7; es-es; SonyEricssonST25i Build/6.0.B.3.184) AppleWebKit/533.1 (KHTML, like Gecko) Version/4.0 Mobile Safari/533.1\" VLOG=-\\n None None None None None None Non...\n",
       "100004    \"Mozilla/5.0 (Linux; U; Android 2.3.7; es-es; SonyEricssonST25i Build/6.0.B.3.184) AppleWebKit/533.1 (KHTML, like Gecko) Version/4.0 Mobile Safari/533.1\" VLOG=-\\n None None None None None None Non...\n",
       "100005    \"Mozilla/5.0 (compatible; Googlebot/2.1; +http://www.google.com/bot.html)\" VLOG=-\\n None None None None None None None None None None None None None None None None None None None None None None No...\n",
       "100006    \"Apache (internal dummy connection)\" VLOG=-\\n None None None None None None None None None None None None None None None None None None None None None None None None None None None None None None ...\n",
       "100007    \"Mozilla/5.0 (Linux; U; Android 2.3.7; es-es; SonyEricssonST25i Build/6.0.B.3.184) AppleWebKit/533.1 (KHTML, like Gecko) Version/4.0 Mobile Safari/533.1\" VLOG=-\\n None None None None None None Non...\n",
       "100008    \"Mozilla/5.0 (Linux; U; Android 2.3.7; es-es; SonyEricssonST25i Build/6.0.B.3.184) AppleWebKit/533.1 (KHTML, like Gecko) Version/4.0 Mobile Safari/533.1\" VLOG=-\\n None None None None None None Non...\n",
       "100009    \"Mozilla/5.0 (Linux; U; Android 2.3.7; es-es; SonyEricssonST25i Build/6.0.B.3.184) AppleWebKit/533.1 (KHTML, like Gecko) Version/4.0 Mobile Safari/533.1\" VLOG=-\\n None None None None None None Non...\n",
       "100010    \"Mozilla/5.0 (Linux; U; Android 2.3.7; es-es; SonyEricssonST25i Build/6.0.B.3.184) AppleWebKit/533.1 (KHTML, like Gecko) Version/4.0 Mobile Safari/533.1\" VLOG=-\\n None None None None None None Non...\n",
       "100011    \"Mozilla/5.0 (Linux; U; Android 2.3.7; es-es; SonyEricssonST25i Build/6.0.B.3.184) AppleWebKit/533.1 (KHTML, like Gecko) Version/4.0 Mobile Safari/533.1\" VLOG=-\\n None None None None None None Non...\n",
       "100012    \"Mozilla/5.0 (Linux; U; Android 2.3.7; es-es; SonyEricssonST25i Build/6.0.B.3.184) AppleWebKit/533.1 (KHTML, like Gecko) Version/4.0 Mobile Safari/533.1\" VLOG=-\\n None None None None None None Non...\n",
       "100013    \"Mozilla/5.0 (Linux; U; Android 2.3.7; es-es; SonyEricssonST25i Build/6.0.B.3.184) AppleWebKit/533.1 (KHTML, like Gecko) Version/4.0 Mobile Safari/533.1\" VLOG=-\\n None None None None None None Non...\n",
       "100014    \"Mozilla/5.0 (Linux; U; Android 2.3.7; es-es; SonyEricssonST25i Build/6.0.B.3.184) AppleWebKit/533.1 (KHTML, like Gecko) Version/4.0 Mobile Safari/533.1\" VLOG=-\\n None None None None None None Non...\n",
       "100015    \"Mozilla/5.0 (Linux; U; Android 2.3.7; es-es; SonyEricssonST25i Build/6.0.B.3.184) AppleWebKit/533.1 (KHTML, like Gecko) Version/4.0 Mobile Safari/533.1\" VLOG=-\\n None None None None None None Non...\n",
       "100016    \"Mozilla/5.0 (Linux; U; Android 2.3.7; es-es; SonyEricssonST25i Build/6.0.B.3.184) AppleWebKit/533.1 (KHTML, like Gecko) Version/4.0 Mobile Safari/533.1\" VLOG=-\\n None None None None None None Non...\n",
       "100017    \"Mozilla/5.0 (Linux; U; Android 2.3.7; es-es; SonyEricssonST25i Build/6.0.B.3.184) AppleWebKit/533.1 (KHTML, like Gecko) Version/4.0 Mobile Safari/533.1\" VLOG=-\\n None None None None None None Non...\n",
       "100018    \"Mozilla/5.0 (Linux; U; Android 2.3.7; es-es; SonyEricssonST25i Build/6.0.B.3.184) AppleWebKit/533.1 (KHTML, like Gecko) Version/4.0 Mobile Safari/533.1\" VLOG=-\\n None None None None None None Non...\n",
       "100019    \"Mozilla/5.0 (Linux; U; Android 2.3.7; es-es; SonyEricssonST25i Build/6.0.B.3.184) AppleWebKit/533.1 (KHTML, like Gecko) Version/4.0 Mobile Safari/533.1\" VLOG=-\\n None None None None None None Non...\n",
       "Name: resta_linia, dtype: object"
      ]
     },
     "execution_count": 23,
     "metadata": {},
     "output_type": "execute_result"
    }
   ],
   "source": [
    "#to see the hole string un the column, there is the pd.options.display.max_colwith\n",
    "pd.options.display.max_colwidth = 200\n",
    "df['resta_linia'][100000:100020]"
   ]
  },
  {
   "cell_type": "markdown",
   "id": "ee6072e3",
   "metadata": {},
   "source": [
    "_______________________________"
   ]
  },
  {
   "cell_type": "markdown",
   "id": "d5bfcfae",
   "metadata": {},
   "source": [
    "## NIVELL 2 - EXERCICI 2\n",
    "\n",
    "Neteja, preprocesa, estructura i transforma (dataframe) les dades del registre d'Accés a la web. "
   ]
  },
  {
   "cell_type": "markdown",
   "id": "cbebd2a0",
   "metadata": {},
   "source": [
    "En aquest exercici, netejarem el Dataframe anterior, sobretot les columnes datetime, i la 'resta_linia'. També eliminarem alguna altra columna que no conté informació rellevant."
   ]
  },
  {
   "cell_type": "code",
   "execution_count": 24,
   "id": "55fb5b6e",
   "metadata": {},
   "outputs": [],
   "source": [
    "#delete the column 3, as we did with the column 2 and 5 before.\n",
    "del df[3]"
   ]
  },
  {
   "cell_type": "code",
   "execution_count": 25,
   "id": "b0c86e25",
   "metadata": {},
   "outputs": [
    {
     "data": {
      "text/plain": [
       "0    [23/Feb/2014:03:10:31\n",
       "1    [23/Feb/2014:03:10:31\n",
       "2    [23/Feb/2014:03:10:31\n",
       "3    [23/Feb/2014:03:10:31\n",
       "4    [23/Feb/2014:03:10:31\n",
       "Name: datetime, dtype: object"
      ]
     },
     "execution_count": 25,
     "metadata": {},
     "output_type": "execute_result"
    }
   ],
   "source": [
    "#create new columns for day, month, year\n",
    "import datetime as dt\n",
    "import time as tm\n",
    "\n",
    "df['datetime'].head()"
   ]
  },
  {
   "cell_type": "code",
   "execution_count": 26,
   "id": "ed91d19c",
   "metadata": {},
   "outputs": [],
   "source": [
    "#delete the square bracket in the beginning\n",
    "#https://pandas.pydata.org/docs/reference/api/pandas.Series.apply.html\n",
    "df['datetime'] = df['datetime'].apply(lambda row : row.replace('[',''))"
   ]
  },
  {
   "cell_type": "code",
   "execution_count": 27,
   "id": "e73e86a5",
   "metadata": {},
   "outputs": [],
   "source": [
    "#split the date by the first ':' -->split(':', 1) and keep only the first part [0]\n",
    "df['date'] = df['datetime'].apply(lambda row : row.split(':', 1)[0])\n",
    "#df['date']"
   ]
  },
  {
   "cell_type": "code",
   "execution_count": 29,
   "id": "6561e1be",
   "metadata": {},
   "outputs": [],
   "source": [
    "df['time'] = df['datetime'].apply(lambda row : row.split(':', 1)[1])\n",
    "#df['time']"
   ]
  },
  {
   "cell_type": "code",
   "execution_count": 32,
   "id": "31301210",
   "metadata": {},
   "outputs": [],
   "source": [
    "del df['datetime']"
   ]
  },
  {
   "cell_type": "code",
   "execution_count": 33,
   "id": "97f3c494",
   "metadata": {},
   "outputs": [
    {
     "data": {
      "text/plain": [
       "['web',\n",
       " 'ip',\n",
       " 'options',\n",
       " 'url',\n",
       " 'protocol',\n",
       " 9,\n",
       " 10,\n",
       " 11,\n",
       " 'resta_linia',\n",
       " 'date',\n",
       " 'time']"
      ]
     },
     "execution_count": 33,
     "metadata": {},
     "output_type": "execute_result"
    }
   ],
   "source": [
    "#rearrange columns\n",
    "cols = df.columns.tolist()\n",
    "cols"
   ]
  },
  {
   "cell_type": "code",
   "execution_count": 35,
   "id": "68ba8215",
   "metadata": {},
   "outputs": [
    {
     "data": {
      "text/html": [
       "<div>\n",
       "<style scoped>\n",
       "    .dataframe tbody tr th:only-of-type {\n",
       "        vertical-align: middle;\n",
       "    }\n",
       "\n",
       "    .dataframe tbody tr th {\n",
       "        vertical-align: top;\n",
       "    }\n",
       "\n",
       "    .dataframe thead th {\n",
       "        text-align: right;\n",
       "    }\n",
       "</style>\n",
       "<table border=\"1\" class=\"dataframe\">\n",
       "  <thead>\n",
       "    <tr style=\"text-align: right;\">\n",
       "      <th></th>\n",
       "      <th>web</th>\n",
       "      <th>ip</th>\n",
       "      <th>date</th>\n",
       "      <th>time</th>\n",
       "      <th>options</th>\n",
       "      <th>url</th>\n",
       "      <th>protocol</th>\n",
       "      <th>9</th>\n",
       "      <th>10</th>\n",
       "      <th>11</th>\n",
       "      <th>resta_linia</th>\n",
       "    </tr>\n",
       "  </thead>\n",
       "  <tbody>\n",
       "    <tr>\n",
       "      <th>0</th>\n",
       "      <td>localhost</td>\n",
       "      <td>127.0.0.1</td>\n",
       "      <td>23/Feb/2014</td>\n",
       "      <td>03:10:31</td>\n",
       "      <td>\"OPTIONS</td>\n",
       "      <td>*</td>\n",
       "      <td>HTTP/1.0\"</td>\n",
       "      <td>200</td>\n",
       "      <td>-</td>\n",
       "      <td>\"-\"</td>\n",
       "      <td>\"Apache (internal dummy connection)\" VLOG=-\\n None None None None None None None None None None None None None None None None None None None None None None None None None None None None None None ...</td>\n",
       "    </tr>\n",
       "    <tr>\n",
       "      <th>1</th>\n",
       "      <td>localhost</td>\n",
       "      <td>127.0.0.1</td>\n",
       "      <td>23/Feb/2014</td>\n",
       "      <td>03:10:31</td>\n",
       "      <td>\"OPTIONS</td>\n",
       "      <td>*</td>\n",
       "      <td>HTTP/1.0\"</td>\n",
       "      <td>200</td>\n",
       "      <td>-</td>\n",
       "      <td>\"-\"</td>\n",
       "      <td>\"Apache (internal dummy connection)\" VLOG=-\\n None None None None None None None None None None None None None None None None None None None None None None None None None None None None None None ...</td>\n",
       "    </tr>\n",
       "    <tr>\n",
       "      <th>2</th>\n",
       "      <td>localhost</td>\n",
       "      <td>127.0.0.1</td>\n",
       "      <td>23/Feb/2014</td>\n",
       "      <td>03:10:31</td>\n",
       "      <td>\"OPTIONS</td>\n",
       "      <td>*</td>\n",
       "      <td>HTTP/1.0\"</td>\n",
       "      <td>200</td>\n",
       "      <td>-</td>\n",
       "      <td>\"-\"</td>\n",
       "      <td>\"Apache (internal dummy connection)\" VLOG=-\\n None None None None None None None None None None None None None None None None None None None None None None None None None None None None None None ...</td>\n",
       "    </tr>\n",
       "    <tr>\n",
       "      <th>3</th>\n",
       "      <td>localhost</td>\n",
       "      <td>127.0.0.1</td>\n",
       "      <td>23/Feb/2014</td>\n",
       "      <td>03:10:31</td>\n",
       "      <td>\"OPTIONS</td>\n",
       "      <td>*</td>\n",
       "      <td>HTTP/1.0\"</td>\n",
       "      <td>200</td>\n",
       "      <td>-</td>\n",
       "      <td>\"-\"</td>\n",
       "      <td>\"Apache (internal dummy connection)\" VLOG=-\\n None None None None None None None None None None None None None None None None None None None None None None None None None None None None None None ...</td>\n",
       "    </tr>\n",
       "    <tr>\n",
       "      <th>4</th>\n",
       "      <td>localhost</td>\n",
       "      <td>127.0.0.1</td>\n",
       "      <td>23/Feb/2014</td>\n",
       "      <td>03:10:31</td>\n",
       "      <td>\"OPTIONS</td>\n",
       "      <td>*</td>\n",
       "      <td>HTTP/1.0\"</td>\n",
       "      <td>200</td>\n",
       "      <td>-</td>\n",
       "      <td>\"-\"</td>\n",
       "      <td>\"Apache (internal dummy connection)\" VLOG=-\\n None None None None None None None None None None None None None None None None None None None None None None None None None None None None None None ...</td>\n",
       "    </tr>\n",
       "  </tbody>\n",
       "</table>\n",
       "</div>"
      ],
      "text/plain": [
       "         web         ip         date      time   options url   protocol    9  \\\n",
       "0  localhost  127.0.0.1  23/Feb/2014  03:10:31  \"OPTIONS   *  HTTP/1.0\"  200   \n",
       "1  localhost  127.0.0.1  23/Feb/2014  03:10:31  \"OPTIONS   *  HTTP/1.0\"  200   \n",
       "2  localhost  127.0.0.1  23/Feb/2014  03:10:31  \"OPTIONS   *  HTTP/1.0\"  200   \n",
       "3  localhost  127.0.0.1  23/Feb/2014  03:10:31  \"OPTIONS   *  HTTP/1.0\"  200   \n",
       "4  localhost  127.0.0.1  23/Feb/2014  03:10:31  \"OPTIONS   *  HTTP/1.0\"  200   \n",
       "\n",
       "  10   11  \\\n",
       "0  -  \"-\"   \n",
       "1  -  \"-\"   \n",
       "2  -  \"-\"   \n",
       "3  -  \"-\"   \n",
       "4  -  \"-\"   \n",
       "\n",
       "                                                                                                                                                                                               resta_linia  \n",
       "0  \"Apache (internal dummy connection)\" VLOG=-\\n None None None None None None None None None None None None None None None None None None None None None None None None None None None None None None ...  \n",
       "1  \"Apache (internal dummy connection)\" VLOG=-\\n None None None None None None None None None None None None None None None None None None None None None None None None None None None None None None ...  \n",
       "2  \"Apache (internal dummy connection)\" VLOG=-\\n None None None None None None None None None None None None None None None None None None None None None None None None None None None None None None ...  \n",
       "3  \"Apache (internal dummy connection)\" VLOG=-\\n None None None None None None None None None None None None None None None None None None None None None None None None None None None None None None ...  \n",
       "4  \"Apache (internal dummy connection)\" VLOG=-\\n None None None None None None None None None None None None None None None None None None None None None None None None None None None None None None ...  "
      ]
     },
     "execution_count": 35,
     "metadata": {},
     "output_type": "execute_result"
    }
   ],
   "source": [
    "df = df[['web','ip', 'date','time', 'options', 'url', 'protocol', 9, 10, 11, 'resta_linia']]\n",
    "df.head()"
   ]
  },
  {
   "cell_type": "code",
   "execution_count": 37,
   "id": "4be0bcec",
   "metadata": {},
   "outputs": [
    {
     "data": {
      "text/plain": [
       "0                                              \"Apache (internal dummy connection)\" VLOG=-                              \n",
       "1                                              \"Apache (internal dummy connection)\" VLOG=-                              \n",
       "2                                              \"Apache (internal dummy connection)\" VLOG=-                              \n",
       "3                                              \"Apache (internal dummy connection)\" VLOG=-                              \n",
       "4                                              \"Apache (internal dummy connection)\" VLOG=-                              \n",
       "                                                               ...                                                      \n",
       "261855           \"Mozilla/5.0 (compatible; YandexBot/3.0; +http://yandex.com/bots)\" VLOG=-                              \n",
       "261856    \"Mozilla/5.0+(compatible; UptimeRobot/2.0; http://www.uptimerobot.com/)\" VLOG=-                               \n",
       "261857                                         \"Apache (internal dummy connection)\" VLOG=-                              \n",
       "261858                                         \"Apache (internal dummy connection)\" VLOG=-                              \n",
       "261859                                         \"Apache (internal dummy connection)\" VLOG=-                              \n",
       "Name: resta_linia, Length: 261860, dtype: object"
      ]
     },
     "execution_count": 37,
     "metadata": {},
     "output_type": "execute_result"
    }
   ],
   "source": [
    "df['resta_linia'] = df['resta_linia'].apply(lambda row : row.replace('None',''))\n",
    "df['resta_linia'] = df['resta_linia'].apply(lambda row : row.replace('\\n   ',''))\n",
    "df['resta_linia']"
   ]
  },
  {
   "cell_type": "code",
   "execution_count": 38,
   "id": "69f8d0e6",
   "metadata": {},
   "outputs": [
    {
     "data": {
      "text/plain": [
       "0        2014-02-23\n",
       "1        2014-02-23\n",
       "2        2014-02-23\n",
       "3        2014-02-23\n",
       "4        2014-02-23\n",
       "            ...    \n",
       "261855   2014-03-02\n",
       "261856   2014-03-02\n",
       "261857   2014-03-02\n",
       "261858   2014-03-02\n",
       "261859   2014-03-02\n",
       "Name: date, Length: 261860, dtype: datetime64[ns]"
      ]
     },
     "execution_count": 38,
     "metadata": {},
     "output_type": "execute_result"
    }
   ],
   "source": [
    "pd.to_datetime(df['date'])"
   ]
  },
  {
   "cell_type": "code",
   "execution_count": 39,
   "id": "e34ebcc1",
   "metadata": {},
   "outputs": [
    {
     "data": {
      "text/plain": [
       "0        2021-11-02 03:10:31\n",
       "1        2021-11-02 03:10:31\n",
       "2        2021-11-02 03:10:31\n",
       "3        2021-11-02 03:10:31\n",
       "4        2021-11-02 03:10:31\n",
       "                 ...        \n",
       "261855   2021-11-02 03:05:39\n",
       "261856   2021-11-02 03:09:52\n",
       "261857   2021-11-02 03:10:18\n",
       "261858   2021-11-02 03:10:18\n",
       "261859   2021-11-02 03:10:18\n",
       "Name: time, Length: 261860, dtype: datetime64[ns]"
      ]
     },
     "execution_count": 39,
     "metadata": {},
     "output_type": "execute_result"
    }
   ],
   "source": []
  },
  {
   "cell_type": "code",
   "execution_count": null,
   "id": "40b557c8",
   "metadata": {},
   "outputs": [],
   "source": []
  },
  {
   "cell_type": "markdown",
   "id": "5c097f0d",
   "metadata": {},
   "source": [
    "__________________________"
   ]
  },
  {
   "cell_type": "markdown",
   "id": "03587f70",
   "metadata": {},
   "source": [
    "## NIVELL 2 - EXERCICI 3\n",
    "\n",
    "Geolocalitza les IP's."
   ]
  },
  {
   "cell_type": "code",
   "execution_count": null,
   "id": "3d827c3c",
   "metadata": {},
   "outputs": [],
   "source": []
  },
  {
   "cell_type": "code",
   "execution_count": null,
   "id": "d6d3678a",
   "metadata": {},
   "outputs": [],
   "source": []
  },
  {
   "cell_type": "code",
   "execution_count": null,
   "id": "89f8f5d6",
   "metadata": {},
   "outputs": [],
   "source": []
  },
  {
   "cell_type": "markdown",
   "id": "80e0e731",
   "metadata": {},
   "source": [
    "______________________________"
   ]
  },
  {
   "cell_type": "markdown",
   "id": "aad3f3b8",
   "metadata": {},
   "source": [
    "## NIVELL 3 - EXERCICI 3\n",
    "\n",
    "Mostra'm la teva creativitat, Sorprèn-me fes un pas més enllà amb l'anàlisi anterior."
   ]
  },
  {
   "cell_type": "code",
   "execution_count": 41,
   "id": "a46ae6c3",
   "metadata": {},
   "outputs": [],
   "source": [
    "df['ddmmyy']=pd.to_datetime(df['date'])"
   ]
  },
  {
   "cell_type": "code",
   "execution_count": 43,
   "id": "3dbcfe91",
   "metadata": {},
   "outputs": [
    {
     "ename": "AttributeError",
     "evalue": "'Series' object has no attribute 'year'",
     "output_type": "error",
     "traceback": [
      "\u001b[1;31m---------------------------------------------------------------------------\u001b[0m",
      "\u001b[1;31mAttributeError\u001b[0m                            Traceback (most recent call last)",
      "\u001b[1;32m<ipython-input-43-51dae69974e2>\u001b[0m in \u001b[0;36m<module>\u001b[1;34m\u001b[0m\n\u001b[1;32m----> 1\u001b[1;33m \u001b[0mdf\u001b[0m\u001b[1;33m[\u001b[0m\u001b[1;34m'ddmmyy'\u001b[0m\u001b[1;33m]\u001b[0m\u001b[1;33m.\u001b[0m\u001b[0myear\u001b[0m\u001b[1;33m\u001b[0m\u001b[1;33m\u001b[0m\u001b[0m\n\u001b[0m",
      "\u001b[1;32m~\\anaconda3\\lib\\site-packages\\pandas\\core\\generic.py\u001b[0m in \u001b[0;36m__getattr__\u001b[1;34m(self, name)\u001b[0m\n\u001b[0;32m   5463\u001b[0m             \u001b[1;32mif\u001b[0m \u001b[0mself\u001b[0m\u001b[1;33m.\u001b[0m\u001b[0m_info_axis\u001b[0m\u001b[1;33m.\u001b[0m\u001b[0m_can_hold_identifiers_and_holds_name\u001b[0m\u001b[1;33m(\u001b[0m\u001b[0mname\u001b[0m\u001b[1;33m)\u001b[0m\u001b[1;33m:\u001b[0m\u001b[1;33m\u001b[0m\u001b[1;33m\u001b[0m\u001b[0m\n\u001b[0;32m   5464\u001b[0m                 \u001b[1;32mreturn\u001b[0m \u001b[0mself\u001b[0m\u001b[1;33m[\u001b[0m\u001b[0mname\u001b[0m\u001b[1;33m]\u001b[0m\u001b[1;33m\u001b[0m\u001b[1;33m\u001b[0m\u001b[0m\n\u001b[1;32m-> 5465\u001b[1;33m             \u001b[1;32mreturn\u001b[0m \u001b[0mobject\u001b[0m\u001b[1;33m.\u001b[0m\u001b[0m__getattribute__\u001b[0m\u001b[1;33m(\u001b[0m\u001b[0mself\u001b[0m\u001b[1;33m,\u001b[0m \u001b[0mname\u001b[0m\u001b[1;33m)\u001b[0m\u001b[1;33m\u001b[0m\u001b[1;33m\u001b[0m\u001b[0m\n\u001b[0m\u001b[0;32m   5466\u001b[0m \u001b[1;33m\u001b[0m\u001b[0m\n\u001b[0;32m   5467\u001b[0m     \u001b[1;32mdef\u001b[0m \u001b[0m__setattr__\u001b[0m\u001b[1;33m(\u001b[0m\u001b[0mself\u001b[0m\u001b[1;33m,\u001b[0m \u001b[0mname\u001b[0m\u001b[1;33m:\u001b[0m \u001b[0mstr\u001b[0m\u001b[1;33m,\u001b[0m \u001b[0mvalue\u001b[0m\u001b[1;33m)\u001b[0m \u001b[1;33m->\u001b[0m \u001b[1;32mNone\u001b[0m\u001b[1;33m:\u001b[0m\u001b[1;33m\u001b[0m\u001b[1;33m\u001b[0m\u001b[0m\n",
      "\u001b[1;31mAttributeError\u001b[0m: 'Series' object has no attribute 'year'"
     ]
    }
   ],
   "source": [
    "#x.strftime(\"%A\") --> to get the day of week"
   ]
  },
  {
   "cell_type": "code",
   "execution_count": null,
   "id": "1e0eabab",
   "metadata": {},
   "outputs": [],
   "source": []
  }
 ],
 "metadata": {
  "kernelspec": {
   "display_name": "Python 3",
   "language": "python",
   "name": "python3"
  },
  "language_info": {
   "codemirror_mode": {
    "name": "ipython",
    "version": 3
   },
   "file_extension": ".py",
   "mimetype": "text/x-python",
   "name": "python",
   "nbconvert_exporter": "python",
   "pygments_lexer": "ipython3",
   "version": "3.8.8"
  }
 },
 "nbformat": 4,
 "nbformat_minor": 5
}
