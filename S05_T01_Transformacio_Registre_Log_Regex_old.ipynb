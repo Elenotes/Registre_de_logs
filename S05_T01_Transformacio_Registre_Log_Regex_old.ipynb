{
 "cells": [
  {
   "cell_type": "markdown",
   "id": "af361ab8",
   "metadata": {},
   "source": [
    "# S05 T01: Transformació Registre Log amb Regular expressions"
   ]
  },
  {
   "cell_type": "markdown",
   "id": "49934598",
   "metadata": {},
   "source": [
    "<span style=color:darkred>**References:**</span>\n",
    "+ [PY4E: Regular Expressions](https://www.py4e.com/lessons/regex#)\n",
    "+ [Python Regex for Data Scientists](https://www.dataquest.io/blog/regular-expressions-data-scientists/)\n",
    "+ [RegexOne](https://regexone.com/)"
   ]
  },
  {
   "cell_type": "markdown",
   "id": "7494b7c3",
   "metadata": {},
   "source": [
    "### Descripció\n",
    "\n",
    "L'anàlisi de registres és una funció important per al control i l'alerta, el compliment de les polítiques de seguretat, l'auditoria i el compliment normatiu, la resposta a incidents de seguretat i fins i tot les investigacions forenses. En analitzar les dades de registre, les empreses poden identificar més fàcilment les possibles amenaces i altres problemes, trobar la causa arrel i iniciar una resposta ràpida per mitigar els riscos. "
   ]
  },
  {
   "cell_type": "markdown",
   "id": "cca4867d",
   "metadata": {},
   "source": [
    "## NIVELL 1 - EXERCICI 1\n",
    "\n",
    "L'analista ha d'assegurar-se que els registres consisteixen en una gamma completa de missatges i s'interpreten segons el context. Els elements de registre han d'estandaritzar-se, utilitzant els mateixos termes o terminologia, per evitar confusions i proporcionar cohesió.\n",
    "\n",
    "Com Científic de Dades se t'ha proporcionat accés als registres-Logs on queda registrada l'activitat de totes les visites a realitzades a la pàgina web de l'agència de viatges \"akumenius.com\".\n",
    "\n",
    "### Exercici\n",
    "\n",
    "Estandaritza, identifica i enumera cada un dels atributs / variables de l'estructura de l'arxiu [Web_access_log-akumenius.com](https://github.com/IT-Academy-BCN/Data-Science/blob/main/Data-sources/Web_access_log-akumenius.com.txt.7z) que trobaràs al repositori de GitHub [\"Data-sources\".](https://github.com/IT-Academy-BCN/Data-Science/tree/main/Data-sources) "
   ]
  },
  {
   "cell_type": "code",
   "execution_count": 117,
   "id": "7c0f4021",
   "metadata": {},
   "outputs": [],
   "source": [
    "#import libraries\n",
    "import numpy as np\n",
    "import pandas as pd\n",
    "import re\n",
    "import json\n"
   ]
  },
  {
   "cell_type": "code",
   "execution_count": 118,
   "id": "cfff1547",
   "metadata": {
    "scrolled": true
   },
   "outputs": [
    {
     "name": "stdout",
     "output_type": "stream",
     "text": [
      "localhost 127.0.0.1 - - [23/Feb/2014:03:10:31 +0100] \"OPTIONS * HTTP/1.0\" 200 - \"-\" \"Apache (internal dummy connection)\" VLOG=-\n",
      "localhost 127.0.0.1 - - [23/Feb/2014:03:10:31 +0100] \"OPTIONS * HTTP/1.0\" 200 - \"-\" \"Apache (internal dummy connection)\" VLOG=-\n",
      "localhost 127.0.0.1 - - [23/Feb/2014:03:10:31 +0100] \"OPTIONS * HTTP/1.0\" 200 - \"-\" \"Apache (internal dummy connection)\" VLOG=-\n",
      "localhost 127.0.0.1 - - [23/Feb/2014:03:10:31 +0100] \"OPTIONS * HTTP/1.0\" 200 - \"-\" \"Apache (internal dummy connection)\" VLOG=-\n",
      "localhost 127.0.0.1 - - [23/Feb/2014:03:10:31 +0100] \"OPTIONS * HTTP/1.0\" 200 - \"-\" \"Apache (internal dummy connection)\" VLOG=-\n",
      "localhost 127.0.0.1 - - [23/Feb/2014:03:10:31 +0100] \"OPTIONS * HTTP/1.0\" 200 - \"-\" \"Apache (internal dummy connection)\" VLOG=-\n",
      "localhost 127.0.0.1 - - [23/Feb/2014:03:10:31 +0100] \"OPTIONS * HTTP/1.0\" 200 - \"-\" \"Apache (internal dummy connection)\" VLOG=-\n",
      "localhost 127.0.0.1 - - [23/Feb/2014:03:10:31 +0100] \"OPTIONS * HTTP/1.0\" 200 - \"-\" \"Apache (internal du\n"
     ]
    }
   ],
   "source": [
    "#let's take a look to the file\n",
    "with open(r'Web_access_log.txt', 'r') as file:\n",
    "    print(file.read(1000))    \n"
   ]
  },
  {
   "cell_type": "code",
   "execution_count": 145,
   "id": "4b6c0bc2",
   "metadata": {},
   "outputs": [
    {
     "data": {
      "text/html": [
       "<div>\n",
       "<style scoped>\n",
       "    .dataframe tbody tr th:only-of-type {\n",
       "        vertical-align: middle;\n",
       "    }\n",
       "\n",
       "    .dataframe tbody tr th {\n",
       "        vertical-align: top;\n",
       "    }\n",
       "\n",
       "    .dataframe thead th {\n",
       "        text-align: right;\n",
       "    }\n",
       "</style>\n",
       "<table border=\"1\" class=\"dataframe\">\n",
       "  <thead>\n",
       "    <tr style=\"text-align: right;\">\n",
       "      <th></th>\n",
       "      <th>linia</th>\n",
       "    </tr>\n",
       "  </thead>\n",
       "  <tbody>\n",
       "    <tr>\n",
       "      <th>261855</th>\n",
       "      <td>www.akumenius.com 5.255.253.53 - - [02/Mar/201...</td>\n",
       "    </tr>\n",
       "    <tr>\n",
       "      <th>261856</th>\n",
       "      <td>www.akumenius.com 74.86.158.107 - - [02/Mar/20...</td>\n",
       "    </tr>\n",
       "    <tr>\n",
       "      <th>261857</th>\n",
       "      <td>localhost 127.0.0.1 - - [02/Mar/2014:03:10:18 ...</td>\n",
       "    </tr>\n",
       "    <tr>\n",
       "      <th>261858</th>\n",
       "      <td>localhost 127.0.0.1 - - [02/Mar/2014:03:10:18 ...</td>\n",
       "    </tr>\n",
       "    <tr>\n",
       "      <th>261859</th>\n",
       "      <td>localhost 127.0.0.1 - - [02/Mar/2014:03:10:18 ...</td>\n",
       "    </tr>\n",
       "  </tbody>\n",
       "</table>\n",
       "</div>"
      ],
      "text/plain": [
       "                                                    linia\n",
       "261855  www.akumenius.com 5.255.253.53 - - [02/Mar/201...\n",
       "261856  www.akumenius.com 74.86.158.107 - - [02/Mar/20...\n",
       "261857  localhost 127.0.0.1 - - [02/Mar/2014:03:10:18 ...\n",
       "261858  localhost 127.0.0.1 - - [02/Mar/2014:03:10:18 ...\n",
       "261859  localhost 127.0.0.1 - - [02/Mar/2014:03:10:18 ..."
      ]
     },
     "execution_count": 145,
     "metadata": {},
     "output_type": "execute_result"
    }
   ],
   "source": [
    "#convert the file as a dataframe\n",
    "log = pd.read_csv('Web_access_log.txt', names = ['linia'])\n",
    "log.tail()"
   ]
  },
  {
   "cell_type": "code",
   "execution_count": 174,
   "id": "b8359331",
   "metadata": {},
   "outputs": [],
   "source": [
    "for ln in re.finditer(\"([\\w+\\.*\\w+\\.*\\w+\\S]) ([\\d{1,3}.\\d{1,3}.\\d{1,3}.\\d{1,3}]) ([- \\w.+]) ([\\[.+\\]]) ([.+])\", log.linia[0]):\n",
    "    print(ln.group())\n"
   ]
  },
  {
   "cell_type": "code",
   "execution_count": 176,
   "id": "3a12a97a",
   "metadata": {},
   "outputs": [
    {
     "data": {
      "text/html": [
       "<div>\n",
       "<style scoped>\n",
       "    .dataframe tbody tr th:only-of-type {\n",
       "        vertical-align: middle;\n",
       "    }\n",
       "\n",
       "    .dataframe tbody tr th {\n",
       "        vertical-align: top;\n",
       "    }\n",
       "\n",
       "    .dataframe thead th {\n",
       "        text-align: right;\n",
       "    }\n",
       "</style>\n",
       "<table border=\"1\" class=\"dataframe\">\n",
       "  <thead>\n",
       "    <tr style=\"text-align: right;\">\n",
       "      <th></th>\n",
       "      <th>0</th>\n",
       "    </tr>\n",
       "  </thead>\n",
       "  <tbody>\n",
       "    <tr>\n",
       "      <th>0</th>\n",
       "      <td>localhost 127.0.0.1 - - [23/Feb/2014:03:10:31 ...</td>\n",
       "    </tr>\n",
       "    <tr>\n",
       "      <th>1</th>\n",
       "      <td>localhost 127.0.0.1 - - [23/Feb/2014:03:10:31 ...</td>\n",
       "    </tr>\n",
       "    <tr>\n",
       "      <th>2</th>\n",
       "      <td>localhost 127.0.0.1 - - [23/Feb/2014:03:10:31 ...</td>\n",
       "    </tr>\n",
       "    <tr>\n",
       "      <th>3</th>\n",
       "      <td>localhost 127.0.0.1 - - [23/Feb/2014:03:10:31 ...</td>\n",
       "    </tr>\n",
       "    <tr>\n",
       "      <th>4</th>\n",
       "      <td>localhost 127.0.0.1 - - [23/Feb/2014:03:10:31 ...</td>\n",
       "    </tr>\n",
       "    <tr>\n",
       "      <th>...</th>\n",
       "      <td>...</td>\n",
       "    </tr>\n",
       "    <tr>\n",
       "      <th>261855</th>\n",
       "      <td>www.akumenius.com 5.255.253.53 - - [02/Mar/201...</td>\n",
       "    </tr>\n",
       "    <tr>\n",
       "      <th>261856</th>\n",
       "      <td>www.akumenius.com 74.86.158.107 - - [02/Mar/20...</td>\n",
       "    </tr>\n",
       "    <tr>\n",
       "      <th>261857</th>\n",
       "      <td>localhost 127.0.0.1 - - [02/Mar/2014:03:10:18 ...</td>\n",
       "    </tr>\n",
       "    <tr>\n",
       "      <th>261858</th>\n",
       "      <td>localhost 127.0.0.1 - - [02/Mar/2014:03:10:18 ...</td>\n",
       "    </tr>\n",
       "    <tr>\n",
       "      <th>261859</th>\n",
       "      <td>localhost 127.0.0.1 - - [02/Mar/2014:03:10:18 ...</td>\n",
       "    </tr>\n",
       "  </tbody>\n",
       "</table>\n",
       "<p>261860 rows × 1 columns</p>\n",
       "</div>"
      ],
      "text/plain": [
       "                                                        0\n",
       "0       localhost 127.0.0.1 - - [23/Feb/2014:03:10:31 ...\n",
       "1       localhost 127.0.0.1 - - [23/Feb/2014:03:10:31 ...\n",
       "2       localhost 127.0.0.1 - - [23/Feb/2014:03:10:31 ...\n",
       "3       localhost 127.0.0.1 - - [23/Feb/2014:03:10:31 ...\n",
       "4       localhost 127.0.0.1 - - [23/Feb/2014:03:10:31 ...\n",
       "...                                                   ...\n",
       "261855  www.akumenius.com 5.255.253.53 - - [02/Mar/201...\n",
       "261856  www.akumenius.com 74.86.158.107 - - [02/Mar/20...\n",
       "261857  localhost 127.0.0.1 - - [02/Mar/2014:03:10:18 ...\n",
       "261858  localhost 127.0.0.1 - - [02/Mar/2014:03:10:18 ...\n",
       "261859  localhost 127.0.0.1 - - [02/Mar/2014:03:10:18 ...\n",
       "\n",
       "[261860 rows x 1 columns]"
      ]
     },
     "execution_count": 176,
     "metadata": {},
     "output_type": "execute_result"
    }
   ],
   "source": [
    "#log['web'] = log['linia'].str.split(r'(\\w+\\.*\\w+\\.*\\w+\\S)', expand=True)\n",
    "#log['linia'].str.split(r'(\\w+\\.*\\w+\\.*\\w+\\S) (\\d{1,3}.\\d{1,3}.\\d{1,3}.\\d{1,3}) (- \\w.+) (\\[.+\\]) (.+)', expand=True)\n",
    "log['linia'].str.split(r'(?P<web>[\\w+\\.*\\w+\\.*\\w+\\S]) (?P<ip>[\\d{1,3}.\\d{1,3}.\\d{1,3}.\\d{1,3}]) (?P<guio1>[- \\w.+]) (?P<guio2>[\\[.+\\]]) (?P<resta_linia>[.+])', expand=True)"
   ]
  },
  {
   "cell_type": "code",
   "execution_count": 99,
   "id": "2e9530b3",
   "metadata": {},
   "outputs": [],
   "source": [
    "#break the lines by a white space\n",
    "#df = pd.read_csv('Web_access_log_copia.txt',sep='\\s+',header=None)\n",
    "#df.tail()\n",
    "\n",
    "### this gets an error in some lines that has different structure."
   ]
  },
  {
   "cell_type": "markdown",
   "id": "fc9cd4ba",
   "metadata": {},
   "source": [
    "Because breaking the lines by white spaces results in an error in some lines, we broke the lines in few first colums, and the rest of the line to work with it later."
   ]
  },
  {
   "cell_type": "code",
   "execution_count": 121,
   "id": "523c189d",
   "metadata": {},
   "outputs": [],
   "source": [
    "#log = pd.read_csv(\"Web_access_log.txt\",  header=None\n",
    "#sep=r'(\\w+\\.*\\w+\\.*\\w+\\S) (\\d{1,3}.\\d{1,3}.\\d{1,3}.\\d{1,3}) (- \\w.+) (\\[.+\\]) (.+)')"
   ]
  },
  {
   "cell_type": "code",
   "execution_count": null,
   "id": "483d3680",
   "metadata": {},
   "outputs": [],
   "source": [
    "log.head()"
   ]
  },
  {
   "cell_type": "code",
   "execution_count": 100,
   "id": "a31b0386",
   "metadata": {},
   "outputs": [],
   "source": [
    "#rename de columns\n",
    "#df.columns = ('web','ip','2', '3','datetime','plus','protocol', 'num1','num2','9', 'service','vlog')\n",
    "#df.head()"
   ]
  },
  {
   "cell_type": "code",
   "execution_count": 114,
   "id": "d4027aa2",
   "metadata": {},
   "outputs": [
    {
     "data": {
      "text/html": [
       "<div>\n",
       "<style scoped>\n",
       "    .dataframe tbody tr th:only-of-type {\n",
       "        vertical-align: middle;\n",
       "    }\n",
       "\n",
       "    .dataframe tbody tr th {\n",
       "        vertical-align: top;\n",
       "    }\n",
       "\n",
       "    .dataframe thead th {\n",
       "        text-align: right;\n",
       "    }\n",
       "</style>\n",
       "<table border=\"1\" class=\"dataframe\">\n",
       "  <thead>\n",
       "    <tr style=\"text-align: right;\">\n",
       "      <th></th>\n",
       "      <th>0</th>\n",
       "      <th>web</th>\n",
       "      <th>ip</th>\n",
       "      <th>3</th>\n",
       "      <th>datetime</th>\n",
       "      <th>resta_linia</th>\n",
       "      <th>6</th>\n",
       "    </tr>\n",
       "  </thead>\n",
       "  <tbody>\n",
       "    <tr>\n",
       "      <th>0</th>\n",
       "      <td>NaN</td>\n",
       "      <td>localhost</td>\n",
       "      <td>127.0.0.1</td>\n",
       "      <td>- -</td>\n",
       "      <td>[23/Feb/2014:03:10:31 +0100]</td>\n",
       "      <td>\"OPTIONS * HTTP/1.0\" 200 - \"-\" \"Apache (intern...</td>\n",
       "      <td>NaN</td>\n",
       "    </tr>\n",
       "    <tr>\n",
       "      <th>1</th>\n",
       "      <td>NaN</td>\n",
       "      <td>localhost</td>\n",
       "      <td>127.0.0.1</td>\n",
       "      <td>- -</td>\n",
       "      <td>[23/Feb/2014:03:10:31 +0100]</td>\n",
       "      <td>\"OPTIONS * HTTP/1.0\" 200 - \"-\" \"Apache (intern...</td>\n",
       "      <td>NaN</td>\n",
       "    </tr>\n",
       "    <tr>\n",
       "      <th>2</th>\n",
       "      <td>NaN</td>\n",
       "      <td>localhost</td>\n",
       "      <td>127.0.0.1</td>\n",
       "      <td>- -</td>\n",
       "      <td>[23/Feb/2014:03:10:31 +0100]</td>\n",
       "      <td>\"OPTIONS * HTTP/1.0\" 200 - \"-\" \"Apache (intern...</td>\n",
       "      <td>NaN</td>\n",
       "    </tr>\n",
       "    <tr>\n",
       "      <th>3</th>\n",
       "      <td>NaN</td>\n",
       "      <td>localhost</td>\n",
       "      <td>127.0.0.1</td>\n",
       "      <td>- -</td>\n",
       "      <td>[23/Feb/2014:03:10:31 +0100]</td>\n",
       "      <td>\"OPTIONS * HTTP/1.0\" 200 - \"-\" \"Apache (intern...</td>\n",
       "      <td>NaN</td>\n",
       "    </tr>\n",
       "    <tr>\n",
       "      <th>4</th>\n",
       "      <td>NaN</td>\n",
       "      <td>localhost</td>\n",
       "      <td>127.0.0.1</td>\n",
       "      <td>- -</td>\n",
       "      <td>[23/Feb/2014:03:10:31 +0100]</td>\n",
       "      <td>\"OPTIONS * HTTP/1.0\" 200 - \"-\" \"Apache (intern...</td>\n",
       "      <td>NaN</td>\n",
       "    </tr>\n",
       "  </tbody>\n",
       "</table>\n",
       "</div>"
      ],
      "text/plain": [
       "     0        web         ip    3                      datetime  \\\n",
       "0  NaN  localhost  127.0.0.1  - -  [23/Feb/2014:03:10:31 +0100]   \n",
       "1  NaN  localhost  127.0.0.1  - -  [23/Feb/2014:03:10:31 +0100]   \n",
       "2  NaN  localhost  127.0.0.1  - -  [23/Feb/2014:03:10:31 +0100]   \n",
       "3  NaN  localhost  127.0.0.1  - -  [23/Feb/2014:03:10:31 +0100]   \n",
       "4  NaN  localhost  127.0.0.1  - -  [23/Feb/2014:03:10:31 +0100]   \n",
       "\n",
       "                                         resta_linia   6  \n",
       "0  \"OPTIONS * HTTP/1.0\" 200 - \"-\" \"Apache (intern... NaN  \n",
       "1  \"OPTIONS * HTTP/1.0\" 200 - \"-\" \"Apache (intern... NaN  \n",
       "2  \"OPTIONS * HTTP/1.0\" 200 - \"-\" \"Apache (intern... NaN  \n",
       "3  \"OPTIONS * HTTP/1.0\" 200 - \"-\" \"Apache (intern... NaN  \n",
       "4  \"OPTIONS * HTTP/1.0\" 200 - \"-\" \"Apache (intern... NaN  "
      ]
     },
     "execution_count": 114,
     "metadata": {},
     "output_type": "execute_result"
    }
   ],
   "source": [
    "#rename de columns\n",
    "#log.columns = ('0','web','ip','3','datetime','resta_linia', '6')\n",
    "#log.head()"
   ]
  },
  {
   "cell_type": "code",
   "execution_count": 115,
   "id": "8840d5a0",
   "metadata": {},
   "outputs": [
    {
     "data": {
      "text/plain": [
       "array([nan,\n",
       "       'www.akumenius.com 80.28.221.123 - clarcat [24/Feb/2014:09:54:07 +0100] \"GET /awstats HTTP/1.1\" 200 996 \"-\" \"Mozilla/5.0 (X11; U; Linux i686; ca; rv:1.9.2.17) Gecko/20110428 Fedora/3.6.17-1.fc13 Firefox/3.6.17\" VLOG=-',\n",
       "       'www.akumenius.com 80.28.221.123 - clarcat [24/Feb/2014:09:54:08 +0100] \"GET /awstats.pl?framename=mainleft HTTP/1.1\" 200 10066 \"http://www.akumenius.com/awstats\" \"Mozilla/5.0 (X11; U; Linux i686; ca; rv:1.9.2.17) Gecko/20110428 Fedora/3.6.17-1.fc13 Firefox/3.6.17\" VLOG=-',\n",
       "       'www.akumenius.com 80.28.221.123 - clarcat [24/Feb/2014:09:54:08 +0100] \"GET /awstats.pl?framename=mainright HTTP/1.1\" 200 120843 \"http://www.akumenius.com/awstats\" \"Mozilla/5.0 (X11; U; Linux i686; ca; rv:1.9.2.17) Gecko/20110428 Fedora/3.6.17-1.fc13 Firefox/3.6.17\" VLOG=-',\n",
       "       'www.akumenius.com 80.28.221.123 - clarcat [24/Feb/2014:09:55:34 +0100] \"GET /awstats.pl?month=02&year=2013&output=main&config=www.akumenius.com&framename=index HTTP/1.1\" 200 1146 \"http://www.akumenius.com/awstats.pl?framename=mainright\" \"Mozilla/5.0 (X11; U; Linux i686; ca; rv:1.9.2.17) Gecko/20110428 Fedora/3.6.17-1.fc13 Firefox/3.6.17\" VLOG=-',\n",
       "       'www.akumenius.com 80.28.221.123 - clarcat [24/Feb/2014:09:55:34 +0100] \"GET /awstats.pl?month=02&year=2013&output=main&config=www.akumenius.com&framename=mainleft HTTP/1.1\" 200 12249 \"http://www.akumenius.com/awstats.pl?month=02&year=2013&output=main&config=www.akumenius.com&framename=index\" \"Mozilla/5.0 (X11; U; Linux i686; ca; rv:1.9.2.17) Gecko/20110428 Fedora/3.6.17-1.fc13 Firefox/3.6.17\" VLOG=-',\n",
       "       'www.akumenius.com 80.28.221.123 - clarcat [24/Feb/2014:09:55:34 +0100] \"GET /awstats.pl?month=02&year=2013&output=main&config=www.akumenius.com&framename=mainright HTTP/1.1\" 200 109613 \"http://www.akumenius.com/awstats.pl?month=02&year=2013&output=main&config=www.akumenius.com&framename=index\" \"Mozilla/5.0 (X11; U; Linux i686; ca; rv:1.9.2.17) Gecko/20110428 Fedora/3.6.17-1.fc13 Firefox/3.6.17\" VLOG=-',\n",
       "       'www.akumenius.com 80.28.221.123 - clarcat [24/Feb/2014:09:55:54 +0100] \"GET /awstats.pl?month=02&year=2012&output=main&config=www.akumenius.com&framename=index HTTP/1.1\" 200 1146 \"http://www.akumenius.com/awstats.pl?month=02&year=2013&output=main&config=www.akumenius.com&framename=mainright\" \"Mozilla/5.0 (X11; U; Linux i686; ca; rv:1.9.2.17) Gecko/20110428 Fedora/3.6.17-1.fc13 Firefox/3.6.17\" VLOG=-',\n",
       "       'www.akumenius.com 80.28.221.123 - clarcat [24/Feb/2014:09:55:54 +0100] \"GET /awstats.pl?month=02&year=2012&output=main&config=www.akumenius.com&framename=mainleft HTTP/1.1\" 200 12249 \"http://www.akumenius.com/awstats.pl?month=02&year=2012&output=main&config=www.akumenius.com&framename=index\" \"Mozilla/5.0 (X11; U; Linux i686; ca; rv:1.9.2.17) Gecko/20110428 Fedora/3.6.17-1.fc13 Firefox/3.6.17\" VLOG=-',\n",
       "       'www.akumenius.com 80.28.221.123 - clarcat [24/Feb/2014:09:55:54 +0100] \"GET /awstats.pl?month=02&year=2012&output=main&config=www.akumenius.com&framename=mainright HTTP/1.1\" 200 108224 \"http://www.akumenius.com/awstats.pl?month=02&year=2012&output=main&config=www.akumenius.com&framename=index\" \"Mozilla/5.0 (X11; U; Linux i686; ca; rv:1.9.2.17) Gecko/20110428 Fedora/3.6.17-1.fc13 Firefox/3.6.17\" VLOG=-',\n",
       "       'www.akumenius.com 80.28.221.123 - clarcat [24/Feb/2014:09:56:13 +0100] \"GET /awstats.pl?month=02&year=2014&output=main&config=www.akumenius.com&framename=index HTTP/1.1\" 200 1146 \"http://www.akumenius.com/awstats.pl?month=02&year=2012&output=main&config=www.akumenius.com&framename=mainright\" \"Mozilla/5.0 (X11; U; Linux i686; ca; rv:1.9.2.17) Gecko/20110428 Fedora/3.6.17-1.fc13 Firefox/3.6.17\" VLOG=-',\n",
       "       'www.akumenius.com 80.28.221.123 - clarcat [24/Feb/2014:09:56:13 +0100] \"GET /awstats.pl?month=02&year=2014&output=main&config=www.akumenius.com&framename=mainleft HTTP/1.1\" 200 12249 \"http://www.akumenius.com/awstats.pl?month=02&year=2014&output=main&config=www.akumenius.com&framename=index\" \"Mozilla/5.0 (X11; U; Linux i686; ca; rv:1.9.2.17) Gecko/20110428 Fedora/3.6.17-1.fc13 Firefox/3.6.17\" VLOG=-',\n",
       "       'www.akumenius.com 80.28.221.123 - clarcat [24/Feb/2014:09:56:14 +0100] \"GET /awstats.pl?month=02&year=2014&output=main&config=www.akumenius.com&framename=mainright HTTP/1.1\" 200 122007 \"http://www.akumenius.com/awstats.pl?month=02&year=2014&output=main&config=www.akumenius.com&framename=index\" \"Mozilla/5.0 (X11; U; Linux i686; ca; rv:1.9.2.17) Gecko/20110428 Fedora/3.6.17-1.fc13 Firefox/3.6.17\" VLOG=-',\n",
       "       'www.akumenius.com 80.28.221.123 - clarcat [25/Feb/2014:09:53:27 +0100] \"GET /awstats HTTP/1.1\" 200 996 \"-\" \"Mozilla/5.0 (X11; U; Linux i686; ca; rv:1.9.2.17) Gecko/20110428 Fedora/3.6.17-1.fc13 Firefox/3.6.17\" VLOG=-',\n",
       "       'www.akumenius.com 80.28.221.123 - clarcat [25/Feb/2014:09:53:28 +0100] \"GET /awstats.pl?framename=mainleft HTTP/1.1\" 200 10066 \"http://www.akumenius.com/awstats\" \"Mozilla/5.0 (X11; U; Linux i686; ca; rv:1.9.2.17) Gecko/20110428 Fedora/3.6.17-1.fc13 Firefox/3.6.17\" VLOG=-',\n",
       "       'www.akumenius.com 80.28.221.123 - clarcat [25/Feb/2014:09:53:28 +0100] \"GET /awstats.pl?framename=mainright HTTP/1.1\" 200 120914 \"http://www.akumenius.com/awstats\" \"Mozilla/5.0 (X11; U; Linux i686; ca; rv:1.9.2.17) Gecko/20110428 Fedora/3.6.17-1.fc13 Firefox/3.6.17\" VLOG=-',\n",
       "       'www.akumenius.com 80.28.221.123 - clarcat [26/Feb/2014:10:02:46 +0100] \"GET /awstats HTTP/1.1\" 200 996 \"-\" \"Mozilla/5.0 (X11; U; Linux i686; ca; rv:1.9.2.17) Gecko/20110428 Fedora/3.6.17-1.fc13 Firefox/3.6.17\" VLOG=-',\n",
       "       'www.akumenius.com 80.28.221.123 - clarcat [26/Feb/2014:10:02:46 +0100] \"GET /awstats.pl?framename=mainleft HTTP/1.1\" 200 10066 \"http://www.akumenius.com/awstats\" \"Mozilla/5.0 (X11; U; Linux i686; ca; rv:1.9.2.17) Gecko/20110428 Fedora/3.6.17-1.fc13 Firefox/3.6.17\" VLOG=-',\n",
       "       'www.akumenius.com 80.28.221.123 - clarcat [26/Feb/2014:10:02:46 +0100] \"GET /awstats.pl?framename=mainright HTTP/1.1\" 200 120993 \"http://www.akumenius.com/awstats\" \"Mozilla/5.0 (X11; U; Linux i686; ca; rv:1.9.2.17) Gecko/20110428 Fedora/3.6.17-1.fc13 Firefox/3.6.17\" VLOG=-',\n",
       "       'www.akumenius.com 80.28.221.123 - clarcat [27/Feb/2014:12:48:52 +0100] \"GET /awstats HTTP/1.1\" 200 996 \"-\" \"Mozilla/5.0 (X11; U; Linux i686; ca; rv:1.9.2.17) Gecko/20110428 Fedora/3.6.17-1.fc13 Firefox/3.6.17\" VLOG=-',\n",
       "       'www.akumenius.com 80.28.221.123 - clarcat [27/Feb/2014:12:48:52 +0100] \"GET /awstats.pl?framename=mainleft HTTP/1.1\" 200 10066 \"http://www.akumenius.com/awstats\" \"Mozilla/5.0 (X11; U; Linux i686; ca; rv:1.9.2.17) Gecko/20110428 Fedora/3.6.17-1.fc13 Firefox/3.6.17\" VLOG=-',\n",
       "       'www.akumenius.com 80.28.221.123 - clarcat [27/Feb/2014:12:48:52 +0100] \"GET /awstats.pl?framename=mainright HTTP/1.1\" 200 121262 \"http://www.akumenius.com/awstats\" \"Mozilla/5.0 (X11; U; Linux i686; ca; rv:1.9.2.17) Gecko/20110428 Fedora/3.6.17-1.fc13 Firefox/3.6.17\" VLOG=-',\n",
       "       'www.akumenius.com 80.28.221.123 - clarcat [27/Feb/2014:13:43:05 +0100] \"GET /awstats HTTP/1.1\" 200 996 \"-\" \"Mozilla/5.0 (X11; U; Linux i686; ca; rv:1.9.2.17) Gecko/20110428 Fedora/3.6.17-1.fc13 Firefox/3.6.17\" VLOG=-',\n",
       "       'www.akumenius.com 80.28.221.123 - clarcat [27/Feb/2014:13:43:06 +0100] \"GET /awstats.pl?framename=mainleft HTTP/1.1\" 200 10066 \"http://www.akumenius.com/awstats\" \"Mozilla/5.0 (X11; U; Linux i686; ca; rv:1.9.2.17) Gecko/20110428 Fedora/3.6.17-1.fc13 Firefox/3.6.17\" VLOG=-',\n",
       "       'www.akumenius.com 80.28.221.123 - clarcat [27/Feb/2014:13:43:06 +0100] \"GET /awstats.pl?framename=mainright HTTP/1.1\" 200 121262 \"http://www.akumenius.com/awstats\" \"Mozilla/5.0 (X11; U; Linux i686; ca; rv:1.9.2.17) Gecko/20110428 Fedora/3.6.17-1.fc13 Firefox/3.6.17\" VLOG=-',\n",
       "       'www.akumenius.com 80.28.221.123 - clarcat [28/Feb/2014:09:41:38 +0100] \"GET /awstats HTTP/1.1\" 200 996 \"-\" \"Mozilla/5.0 (X11; U; Linux i686; ca; rv:1.9.2.17) Gecko/20110428 Fedora/3.6.17-1.fc13 Firefox/3.6.17\" VLOG=-',\n",
       "       'www.akumenius.com 80.28.221.123 - clarcat [28/Feb/2014:09:41:39 +0100] \"GET /awstats.pl?framename=mainleft HTTP/1.1\" 200 10066 \"http://www.akumenius.com/awstats\" \"Mozilla/5.0 (X11; U; Linux i686; ca; rv:1.9.2.17) Gecko/20110428 Fedora/3.6.17-1.fc13 Firefox/3.6.17\" VLOG=-',\n",
       "       'www.akumenius.com 80.28.221.123 - clarcat [28/Feb/2014:09:41:39 +0100] \"GET /awstats.pl?framename=mainright HTTP/1.1\" 200 121317 \"http://www.akumenius.com/awstats\" \"Mozilla/5.0 (X11; U; Linux i686; ca; rv:1.9.2.17) Gecko/20110428 Fedora/3.6.17-1.fc13 Firefox/3.6.17\" VLOG=-'],\n",
       "      dtype=object)"
      ]
     },
     "execution_count": 115,
     "metadata": {},
     "output_type": "execute_result"
    }
   ],
   "source": [
    "log['0'].unique()"
   ]
  },
  {
   "cell_type": "code",
   "execution_count": null,
   "id": "dab28b6c",
   "metadata": {},
   "outputs": [],
   "source": []
  }
 ],
 "metadata": {
  "kernelspec": {
   "display_name": "Python 3",
   "language": "python",
   "name": "python3"
  },
  "language_info": {
   "codemirror_mode": {
    "name": "ipython",
    "version": 3
   },
   "file_extension": ".py",
   "mimetype": "text/x-python",
   "name": "python",
   "nbconvert_exporter": "python",
   "pygments_lexer": "ipython3",
   "version": "3.8.8"
  }
 },
 "nbformat": 4,
 "nbformat_minor": 5
}
